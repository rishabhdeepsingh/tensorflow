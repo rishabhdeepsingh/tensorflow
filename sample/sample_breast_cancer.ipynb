{
  "nbformat": 4,
  "nbformat_minor": 0,
  "metadata": {
    "colab": {
      "name": "sample_breast_cancer.ipynb",
      "provenance": [],
      "collapsed_sections": [],
      "authorship_tag": "ABX9TyO30sgn8W6CYXHbfUraQkI0"
    },
    "kernelspec": {
      "name": "python3",
      "display_name": "Python 3"
    },
    "language_info": {
      "name": "python"
    }
  },
  "cells": [
    {
      "cell_type": "code",
      "execution_count": null,
      "metadata": {
        "id": "jy2Xo2xEKXBV"
      },
      "outputs": [],
      "source": [
        "!pip install -q tensorflow"
      ]
    },
    {
      "cell_type": "code",
      "source": [
        "import tensorflow as tf"
      ],
      "metadata": {
        "id": "MDurPudZNNVb"
      },
      "execution_count": null,
      "outputs": []
    },
    {
      "cell_type": "code",
      "source": [
        "from sklearn.datasets import load_breast_cancer"
      ],
      "metadata": {
        "id": "iCHs-NOCK7rt"
      },
      "execution_count": null,
      "outputs": []
    },
    {
      "cell_type": "code",
      "source": [
        "data = load_breast_cancer()"
      ],
      "metadata": {
        "id": "Qu-nuw_ZLCaW"
      },
      "execution_count": null,
      "outputs": []
    },
    {
      "cell_type": "code",
      "source": [
        "type(data)"
      ],
      "metadata": {
        "colab": {
          "base_uri": "https://localhost:8080/"
        },
        "id": "J4D1JAorLE9x",
        "outputId": "e7e2332e-c3cd-4608-8466-d2708f0e79f0"
      },
      "execution_count": null,
      "outputs": [
        {
          "output_type": "execute_result",
          "data": {
            "text/plain": [
              "sklearn.utils.Bunch"
            ]
          },
          "metadata": {},
          "execution_count": 7
        }
      ]
    },
    {
      "cell_type": "code",
      "source": [
        "data.keys()"
      ],
      "metadata": {
        "colab": {
          "base_uri": "https://localhost:8080/"
        },
        "id": "Kt2eSj6FLHCq",
        "outputId": "5b3130d6-c82f-46ad-ceb0-64875945d41f"
      },
      "execution_count": null,
      "outputs": [
        {
          "output_type": "execute_result",
          "data": {
            "text/plain": [
              "dict_keys(['data', 'target', 'frame', 'target_names', 'DESCR', 'feature_names', 'filename', 'data_module'])"
            ]
          },
          "metadata": {},
          "execution_count": 10
        }
      ]
    },
    {
      "cell_type": "code",
      "source": [
        "data.data.shape"
      ],
      "metadata": {
        "colab": {
          "base_uri": "https://localhost:8080/"
        },
        "id": "00NGtjdhLNPk",
        "outputId": "2d85944d-172c-48b8-e78a-6b17762196c7"
      },
      "execution_count": null,
      "outputs": [
        {
          "output_type": "execute_result",
          "data": {
            "text/plain": [
              "(569, 30)"
            ]
          },
          "metadata": {},
          "execution_count": 12
        }
      ]
    },
    {
      "cell_type": "code",
      "source": [
        "data.target"
      ],
      "metadata": {
        "colab": {
          "base_uri": "https://localhost:8080/"
        },
        "id": "vcTYY227Llzm",
        "outputId": "76555752-c4b1-4c9a-dac8-1602ebc78373"
      },
      "execution_count": null,
      "outputs": [
        {
          "output_type": "execute_result",
          "data": {
            "text/plain": [
              "array([0, 0, 0, 0, 0, 0, 0, 0, 0, 0, 0, 0, 0, 0, 0, 0, 0, 0, 0, 1, 1, 1,\n",
              "       0, 0, 0, 0, 0, 0, 0, 0, 0, 0, 0, 0, 0, 0, 0, 1, 0, 0, 0, 0, 0, 0,\n",
              "       0, 0, 1, 0, 1, 1, 1, 1, 1, 0, 0, 1, 0, 0, 1, 1, 1, 1, 0, 1, 0, 0,\n",
              "       1, 1, 1, 1, 0, 1, 0, 0, 1, 0, 1, 0, 0, 1, 1, 1, 0, 0, 1, 0, 0, 0,\n",
              "       1, 1, 1, 0, 1, 1, 0, 0, 1, 1, 1, 0, 0, 1, 1, 1, 1, 0, 1, 1, 0, 1,\n",
              "       1, 1, 1, 1, 1, 1, 1, 0, 0, 0, 1, 0, 0, 1, 1, 1, 0, 0, 1, 0, 1, 0,\n",
              "       0, 1, 0, 0, 1, 1, 0, 1, 1, 0, 1, 1, 1, 1, 0, 1, 1, 1, 1, 1, 1, 1,\n",
              "       1, 1, 0, 1, 1, 1, 1, 0, 0, 1, 0, 1, 1, 0, 0, 1, 1, 0, 0, 1, 1, 1,\n",
              "       1, 0, 1, 1, 0, 0, 0, 1, 0, 1, 0, 1, 1, 1, 0, 1, 1, 0, 0, 1, 0, 0,\n",
              "       0, 0, 1, 0, 0, 0, 1, 0, 1, 0, 1, 1, 0, 1, 0, 0, 0, 0, 1, 1, 0, 0,\n",
              "       1, 1, 1, 0, 1, 1, 1, 1, 1, 0, 0, 1, 1, 0, 1, 1, 0, 0, 1, 0, 1, 1,\n",
              "       1, 1, 0, 1, 1, 1, 1, 1, 0, 1, 0, 0, 0, 0, 0, 0, 0, 0, 0, 0, 0, 0,\n",
              "       0, 0, 1, 1, 1, 1, 1, 1, 0, 1, 0, 1, 1, 0, 1, 1, 0, 1, 0, 0, 1, 1,\n",
              "       1, 1, 1, 1, 1, 1, 1, 1, 1, 1, 1, 0, 1, 1, 0, 1, 0, 1, 1, 1, 1, 1,\n",
              "       1, 1, 1, 1, 1, 1, 1, 1, 1, 0, 1, 1, 1, 0, 1, 0, 1, 1, 1, 1, 0, 0,\n",
              "       0, 1, 1, 1, 1, 0, 1, 0, 1, 0, 1, 1, 1, 0, 1, 1, 1, 1, 1, 1, 1, 0,\n",
              "       0, 0, 1, 1, 1, 1, 1, 1, 1, 1, 1, 1, 1, 0, 0, 1, 0, 0, 0, 1, 0, 0,\n",
              "       1, 1, 1, 1, 1, 0, 1, 1, 1, 1, 1, 0, 1, 1, 1, 0, 1, 1, 0, 0, 1, 1,\n",
              "       1, 1, 1, 1, 0, 1, 1, 1, 1, 1, 1, 1, 0, 1, 1, 1, 1, 1, 0, 1, 1, 0,\n",
              "       1, 1, 1, 1, 1, 1, 1, 1, 1, 1, 1, 1, 0, 1, 0, 0, 1, 0, 1, 1, 1, 1,\n",
              "       1, 0, 1, 1, 0, 1, 0, 1, 1, 0, 1, 0, 1, 1, 1, 1, 1, 1, 1, 1, 0, 0,\n",
              "       1, 1, 1, 1, 1, 1, 0, 1, 1, 1, 1, 1, 1, 1, 1, 1, 1, 0, 1, 1, 1, 1,\n",
              "       1, 1, 1, 0, 1, 0, 1, 1, 0, 1, 1, 1, 1, 1, 0, 0, 1, 0, 1, 0, 1, 1,\n",
              "       1, 1, 1, 0, 1, 1, 0, 1, 0, 1, 0, 0, 1, 1, 1, 0, 1, 1, 1, 1, 1, 1,\n",
              "       1, 1, 1, 1, 1, 0, 1, 0, 0, 1, 1, 1, 1, 1, 1, 1, 1, 1, 1, 1, 1, 1,\n",
              "       1, 1, 1, 1, 1, 1, 1, 1, 1, 1, 1, 1, 0, 0, 0, 0, 0, 0, 1])"
            ]
          },
          "metadata": {},
          "execution_count": 13
        }
      ]
    },
    {
      "cell_type": "code",
      "source": [
        "data.target_names"
      ],
      "metadata": {
        "colab": {
          "base_uri": "https://localhost:8080/"
        },
        "id": "1Hn4CNL3LpE-",
        "outputId": "09552735-383a-44e7-d32a-276f82e02477"
      },
      "execution_count": null,
      "outputs": [
        {
          "output_type": "execute_result",
          "data": {
            "text/plain": [
              "array(['malignant', 'benign'], dtype='<U9')"
            ]
          },
          "metadata": {},
          "execution_count": 14
        }
      ]
    },
    {
      "cell_type": "code",
      "source": [
        "data.target.shape"
      ],
      "metadata": {
        "colab": {
          "base_uri": "https://localhost:8080/"
        },
        "id": "I1XUV0kULtQ6",
        "outputId": "43611342-d1b4-4ecb-c7c9-545b501d0fec"
      },
      "execution_count": null,
      "outputs": [
        {
          "output_type": "execute_result",
          "data": {
            "text/plain": [
              "(569,)"
            ]
          },
          "metadata": {},
          "execution_count": 15
        }
      ]
    },
    {
      "cell_type": "code",
      "source": [
        "data.feature_names"
      ],
      "metadata": {
        "colab": {
          "base_uri": "https://localhost:8080/"
        },
        "id": "kZeba1g1Ly83",
        "outputId": "dd9dc5f7-f479-4430-c8cb-30223e12d8c3"
      },
      "execution_count": null,
      "outputs": [
        {
          "output_type": "execute_result",
          "data": {
            "text/plain": [
              "array(['mean radius', 'mean texture', 'mean perimeter', 'mean area',\n",
              "       'mean smoothness', 'mean compactness', 'mean concavity',\n",
              "       'mean concave points', 'mean symmetry', 'mean fractal dimension',\n",
              "       'radius error', 'texture error', 'perimeter error', 'area error',\n",
              "       'smoothness error', 'compactness error', 'concavity error',\n",
              "       'concave points error', 'symmetry error',\n",
              "       'fractal dimension error', 'worst radius', 'worst texture',\n",
              "       'worst perimeter', 'worst area', 'worst smoothness',\n",
              "       'worst compactness', 'worst concavity', 'worst concave points',\n",
              "       'worst symmetry', 'worst fractal dimension'], dtype='<U23')"
            ]
          },
          "metadata": {},
          "execution_count": 16
        }
      ]
    },
    {
      "cell_type": "code",
      "source": [
        "from sklearn.model_selection import train_test_split"
      ],
      "metadata": {
        "id": "XzbacqV3L1p7"
      },
      "execution_count": null,
      "outputs": []
    },
    {
      "cell_type": "code",
      "source": [
        "X_train, X_test, Y_train, Y_test = train_test_split(data.data, data.target, test_size=0.33)\n",
        "N, D = X_train.shape"
      ],
      "metadata": {
        "id": "5uGKJIqVMFe7"
      },
      "execution_count": null,
      "outputs": []
    },
    {
      "cell_type": "code",
      "source": [
        "from sklearn.preprocessing import StandardScaler"
      ],
      "metadata": {
        "id": "PlKiZLj5MT4Y"
      },
      "execution_count": null,
      "outputs": []
    },
    {
      "cell_type": "code",
      "source": [
        "scalar = StandardScaler()\n",
        "X_train = scalar.fit_transform(X_train)\n",
        "X_test = scalar.transform(X_test)"
      ],
      "metadata": {
        "id": "N4bleQypMZKD"
      },
      "execution_count": null,
      "outputs": []
    },
    {
      "cell_type": "code",
      "source": [
        "model = tf.keras.models.Sequential([\n",
        "  tf.keras.layers.Input(shape=(D,)),\n",
        "  tf.keras.layers.Dense(1, activation='sigmoid')\n",
        "])\n",
        "\n",
        "model.compile(optimizer='adam',\n",
        "              loss='binary_crossentropy',\n",
        "              metrics=['accuracy'])\n",
        "\n",
        "r = model.fit(X_train, Y_train, validation_data=(X_test, Y_test), epochs=100)\n",
        "\n",
        "print(\"Train Score: \", model.evaluate(X_train, Y_train))\n",
        "print(\"Test  Score: \", model.evaluate(X_test, Y_test))"
      ],
      "metadata": {
        "colab": {
          "base_uri": "https://localhost:8080/"
        },
        "id": "tsT2eGx7Mlrs",
        "outputId": "9047f592-3268-491f-cda5-aa961474e219"
      },
      "execution_count": null,
      "outputs": [
        {
          "output_type": "stream",
          "name": "stdout",
          "text": [
            "Epoch 1/100\n",
            "12/12 [==============================] - 1s 31ms/step - loss: 0.8890 - accuracy: 0.5591 - val_loss: 0.8157 - val_accuracy: 0.5372\n",
            "Epoch 2/100\n",
            "12/12 [==============================] - 0s 8ms/step - loss: 0.8221 - accuracy: 0.6063 - val_loss: 0.7588 - val_accuracy: 0.5851\n",
            "Epoch 3/100\n",
            "12/12 [==============================] - 0s 8ms/step - loss: 0.7609 - accuracy: 0.6483 - val_loss: 0.7086 - val_accuracy: 0.6117\n",
            "Epoch 4/100\n",
            "12/12 [==============================] - 0s 7ms/step - loss: 0.7048 - accuracy: 0.6640 - val_loss: 0.6648 - val_accuracy: 0.6330\n",
            "Epoch 5/100\n",
            "12/12 [==============================] - 0s 8ms/step - loss: 0.6576 - accuracy: 0.6877 - val_loss: 0.6244 - val_accuracy: 0.6755\n",
            "Epoch 6/100\n",
            "12/12 [==============================] - 0s 7ms/step - loss: 0.6144 - accuracy: 0.7139 - val_loss: 0.5886 - val_accuracy: 0.7074\n",
            "Epoch 7/100\n",
            "12/12 [==============================] - 0s 7ms/step - loss: 0.5759 - accuracy: 0.7402 - val_loss: 0.5561 - val_accuracy: 0.7234\n",
            "Epoch 8/100\n",
            "12/12 [==============================] - 0s 11ms/step - loss: 0.5415 - accuracy: 0.7585 - val_loss: 0.5264 - val_accuracy: 0.7447\n",
            "Epoch 9/100\n",
            "12/12 [==============================] - 0s 9ms/step - loss: 0.5098 - accuracy: 0.7690 - val_loss: 0.5001 - val_accuracy: 0.7447\n",
            "Epoch 10/100\n",
            "12/12 [==============================] - 0s 8ms/step - loss: 0.4818 - accuracy: 0.7795 - val_loss: 0.4759 - val_accuracy: 0.7606\n",
            "Epoch 11/100\n",
            "12/12 [==============================] - 0s 7ms/step - loss: 0.4564 - accuracy: 0.8031 - val_loss: 0.4538 - val_accuracy: 0.7819\n",
            "Epoch 12/100\n",
            "12/12 [==============================] - 0s 8ms/step - loss: 0.4321 - accuracy: 0.8215 - val_loss: 0.4341 - val_accuracy: 0.7819\n",
            "Epoch 13/100\n",
            "12/12 [==============================] - 0s 7ms/step - loss: 0.4111 - accuracy: 0.8268 - val_loss: 0.4152 - val_accuracy: 0.7926\n",
            "Epoch 14/100\n",
            "12/12 [==============================] - 0s 8ms/step - loss: 0.3907 - accuracy: 0.8399 - val_loss: 0.3984 - val_accuracy: 0.7979\n",
            "Epoch 15/100\n",
            "12/12 [==============================] - 0s 8ms/step - loss: 0.3725 - accuracy: 0.8504 - val_loss: 0.3825 - val_accuracy: 0.8138\n",
            "Epoch 16/100\n",
            "12/12 [==============================] - 0s 7ms/step - loss: 0.3554 - accuracy: 0.8609 - val_loss: 0.3679 - val_accuracy: 0.8191\n",
            "Epoch 17/100\n",
            "12/12 [==============================] - 0s 8ms/step - loss: 0.3392 - accuracy: 0.8635 - val_loss: 0.3547 - val_accuracy: 0.8191\n",
            "Epoch 18/100\n",
            "12/12 [==============================] - 0s 7ms/step - loss: 0.3252 - accuracy: 0.8714 - val_loss: 0.3420 - val_accuracy: 0.8191\n",
            "Epoch 19/100\n",
            "12/12 [==============================] - 0s 5ms/step - loss: 0.3111 - accuracy: 0.8793 - val_loss: 0.3304 - val_accuracy: 0.8351\n",
            "Epoch 20/100\n",
            "12/12 [==============================] - 0s 5ms/step - loss: 0.2981 - accuracy: 0.8898 - val_loss: 0.3200 - val_accuracy: 0.8457\n",
            "Epoch 21/100\n",
            "12/12 [==============================] - 0s 4ms/step - loss: 0.2864 - accuracy: 0.8924 - val_loss: 0.3103 - val_accuracy: 0.8511\n",
            "Epoch 22/100\n",
            "12/12 [==============================] - 0s 5ms/step - loss: 0.2757 - accuracy: 0.9003 - val_loss: 0.3009 - val_accuracy: 0.8564\n",
            "Epoch 23/100\n",
            "12/12 [==============================] - 0s 6ms/step - loss: 0.2651 - accuracy: 0.9081 - val_loss: 0.2925 - val_accuracy: 0.8723\n",
            "Epoch 24/100\n",
            "12/12 [==============================] - 0s 4ms/step - loss: 0.2557 - accuracy: 0.9160 - val_loss: 0.2845 - val_accuracy: 0.8777\n",
            "Epoch 25/100\n",
            "12/12 [==============================] - 0s 4ms/step - loss: 0.2471 - accuracy: 0.9213 - val_loss: 0.2769 - val_accuracy: 0.8777\n",
            "Epoch 26/100\n",
            "12/12 [==============================] - 0s 4ms/step - loss: 0.2386 - accuracy: 0.9239 - val_loss: 0.2702 - val_accuracy: 0.8830\n",
            "Epoch 27/100\n",
            "12/12 [==============================] - 0s 5ms/step - loss: 0.2309 - accuracy: 0.9265 - val_loss: 0.2639 - val_accuracy: 0.8883\n",
            "Epoch 28/100\n",
            "12/12 [==============================] - 0s 5ms/step - loss: 0.2241 - accuracy: 0.9265 - val_loss: 0.2576 - val_accuracy: 0.9096\n",
            "Epoch 29/100\n",
            "12/12 [==============================] - 0s 6ms/step - loss: 0.2173 - accuracy: 0.9291 - val_loss: 0.2520 - val_accuracy: 0.9149\n",
            "Epoch 30/100\n",
            "12/12 [==============================] - 0s 4ms/step - loss: 0.2110 - accuracy: 0.9318 - val_loss: 0.2468 - val_accuracy: 0.9202\n",
            "Epoch 31/100\n",
            "12/12 [==============================] - 0s 4ms/step - loss: 0.2054 - accuracy: 0.9396 - val_loss: 0.2417 - val_accuracy: 0.9202\n",
            "Epoch 32/100\n",
            "12/12 [==============================] - 0s 6ms/step - loss: 0.1998 - accuracy: 0.9396 - val_loss: 0.2371 - val_accuracy: 0.9202\n",
            "Epoch 33/100\n",
            "12/12 [==============================] - 0s 6ms/step - loss: 0.1949 - accuracy: 0.9396 - val_loss: 0.2326 - val_accuracy: 0.9202\n",
            "Epoch 34/100\n",
            "12/12 [==============================] - 0s 4ms/step - loss: 0.1901 - accuracy: 0.9449 - val_loss: 0.2285 - val_accuracy: 0.9202\n",
            "Epoch 35/100\n",
            "12/12 [==============================] - 0s 5ms/step - loss: 0.1854 - accuracy: 0.9475 - val_loss: 0.2248 - val_accuracy: 0.9202\n",
            "Epoch 36/100\n",
            "12/12 [==============================] - 0s 5ms/step - loss: 0.1813 - accuracy: 0.9528 - val_loss: 0.2211 - val_accuracy: 0.9202\n",
            "Epoch 37/100\n",
            "12/12 [==============================] - 0s 5ms/step - loss: 0.1774 - accuracy: 0.9528 - val_loss: 0.2176 - val_accuracy: 0.9255\n",
            "Epoch 38/100\n",
            "12/12 [==============================] - 0s 7ms/step - loss: 0.1735 - accuracy: 0.9528 - val_loss: 0.2145 - val_accuracy: 0.9255\n",
            "Epoch 39/100\n",
            "12/12 [==============================] - 0s 4ms/step - loss: 0.1701 - accuracy: 0.9528 - val_loss: 0.2113 - val_accuracy: 0.9255\n",
            "Epoch 40/100\n",
            "12/12 [==============================] - 0s 5ms/step - loss: 0.1667 - accuracy: 0.9528 - val_loss: 0.2084 - val_accuracy: 0.9255\n",
            "Epoch 41/100\n",
            "12/12 [==============================] - 0s 5ms/step - loss: 0.1635 - accuracy: 0.9528 - val_loss: 0.2056 - val_accuracy: 0.9255\n",
            "Epoch 42/100\n",
            "12/12 [==============================] - 0s 4ms/step - loss: 0.1606 - accuracy: 0.9554 - val_loss: 0.2029 - val_accuracy: 0.9255\n",
            "Epoch 43/100\n",
            "12/12 [==============================] - 0s 4ms/step - loss: 0.1576 - accuracy: 0.9580 - val_loss: 0.2004 - val_accuracy: 0.9309\n",
            "Epoch 44/100\n",
            "12/12 [==============================] - 0s 4ms/step - loss: 0.1549 - accuracy: 0.9580 - val_loss: 0.1980 - val_accuracy: 0.9309\n",
            "Epoch 45/100\n",
            "12/12 [==============================] - 0s 5ms/step - loss: 0.1523 - accuracy: 0.9633 - val_loss: 0.1957 - val_accuracy: 0.9362\n",
            "Epoch 46/100\n",
            "12/12 [==============================] - 0s 6ms/step - loss: 0.1498 - accuracy: 0.9633 - val_loss: 0.1934 - val_accuracy: 0.9362\n",
            "Epoch 47/100\n",
            "12/12 [==============================] - 0s 5ms/step - loss: 0.1475 - accuracy: 0.9633 - val_loss: 0.1912 - val_accuracy: 0.9362\n",
            "Epoch 48/100\n",
            "12/12 [==============================] - 0s 7ms/step - loss: 0.1452 - accuracy: 0.9659 - val_loss: 0.1892 - val_accuracy: 0.9362\n",
            "Epoch 49/100\n",
            "12/12 [==============================] - 0s 5ms/step - loss: 0.1430 - accuracy: 0.9659 - val_loss: 0.1874 - val_accuracy: 0.9309\n",
            "Epoch 50/100\n",
            "12/12 [==============================] - 0s 5ms/step - loss: 0.1409 - accuracy: 0.9659 - val_loss: 0.1856 - val_accuracy: 0.9309\n",
            "Epoch 51/100\n",
            "12/12 [==============================] - 0s 5ms/step - loss: 0.1389 - accuracy: 0.9659 - val_loss: 0.1838 - val_accuracy: 0.9309\n",
            "Epoch 52/100\n",
            "12/12 [==============================] - 0s 6ms/step - loss: 0.1370 - accuracy: 0.9659 - val_loss: 0.1821 - val_accuracy: 0.9362\n",
            "Epoch 53/100\n",
            "12/12 [==============================] - 0s 5ms/step - loss: 0.1352 - accuracy: 0.9659 - val_loss: 0.1804 - val_accuracy: 0.9362\n",
            "Epoch 54/100\n",
            "12/12 [==============================] - 0s 6ms/step - loss: 0.1334 - accuracy: 0.9659 - val_loss: 0.1788 - val_accuracy: 0.9362\n",
            "Epoch 55/100\n",
            "12/12 [==============================] - 0s 4ms/step - loss: 0.1317 - accuracy: 0.9659 - val_loss: 0.1773 - val_accuracy: 0.9362\n",
            "Epoch 56/100\n",
            "12/12 [==============================] - 0s 6ms/step - loss: 0.1300 - accuracy: 0.9685 - val_loss: 0.1759 - val_accuracy: 0.9362\n",
            "Epoch 57/100\n",
            "12/12 [==============================] - 0s 4ms/step - loss: 0.1284 - accuracy: 0.9711 - val_loss: 0.1745 - val_accuracy: 0.9415\n",
            "Epoch 58/100\n",
            "12/12 [==============================] - 0s 6ms/step - loss: 0.1269 - accuracy: 0.9711 - val_loss: 0.1731 - val_accuracy: 0.9415\n",
            "Epoch 59/100\n",
            "12/12 [==============================] - 0s 5ms/step - loss: 0.1254 - accuracy: 0.9711 - val_loss: 0.1718 - val_accuracy: 0.9415\n",
            "Epoch 60/100\n",
            "12/12 [==============================] - 0s 6ms/step - loss: 0.1240 - accuracy: 0.9711 - val_loss: 0.1706 - val_accuracy: 0.9415\n",
            "Epoch 61/100\n",
            "12/12 [==============================] - 0s 5ms/step - loss: 0.1226 - accuracy: 0.9711 - val_loss: 0.1695 - val_accuracy: 0.9415\n",
            "Epoch 62/100\n",
            "12/12 [==============================] - 0s 5ms/step - loss: 0.1213 - accuracy: 0.9711 - val_loss: 0.1682 - val_accuracy: 0.9415\n",
            "Epoch 63/100\n",
            "12/12 [==============================] - 0s 5ms/step - loss: 0.1199 - accuracy: 0.9711 - val_loss: 0.1671 - val_accuracy: 0.9415\n",
            "Epoch 64/100\n",
            "12/12 [==============================] - 0s 6ms/step - loss: 0.1187 - accuracy: 0.9711 - val_loss: 0.1659 - val_accuracy: 0.9415\n",
            "Epoch 65/100\n",
            "12/12 [==============================] - 0s 4ms/step - loss: 0.1175 - accuracy: 0.9711 - val_loss: 0.1648 - val_accuracy: 0.9415\n",
            "Epoch 66/100\n",
            "12/12 [==============================] - 0s 5ms/step - loss: 0.1163 - accuracy: 0.9711 - val_loss: 0.1638 - val_accuracy: 0.9415\n",
            "Epoch 67/100\n",
            "12/12 [==============================] - 0s 6ms/step - loss: 0.1151 - accuracy: 0.9738 - val_loss: 0.1627 - val_accuracy: 0.9415\n",
            "Epoch 68/100\n",
            "12/12 [==============================] - 0s 6ms/step - loss: 0.1140 - accuracy: 0.9738 - val_loss: 0.1617 - val_accuracy: 0.9415\n",
            "Epoch 69/100\n",
            "12/12 [==============================] - 0s 5ms/step - loss: 0.1130 - accuracy: 0.9738 - val_loss: 0.1608 - val_accuracy: 0.9415\n",
            "Epoch 70/100\n",
            "12/12 [==============================] - 0s 4ms/step - loss: 0.1119 - accuracy: 0.9738 - val_loss: 0.1599 - val_accuracy: 0.9415\n",
            "Epoch 71/100\n",
            "12/12 [==============================] - 0s 5ms/step - loss: 0.1109 - accuracy: 0.9738 - val_loss: 0.1590 - val_accuracy: 0.9415\n",
            "Epoch 72/100\n",
            "12/12 [==============================] - 0s 6ms/step - loss: 0.1099 - accuracy: 0.9738 - val_loss: 0.1582 - val_accuracy: 0.9415\n",
            "Epoch 73/100\n",
            "12/12 [==============================] - 0s 5ms/step - loss: 0.1089 - accuracy: 0.9738 - val_loss: 0.1574 - val_accuracy: 0.9415\n",
            "Epoch 74/100\n",
            "12/12 [==============================] - 0s 4ms/step - loss: 0.1080 - accuracy: 0.9738 - val_loss: 0.1564 - val_accuracy: 0.9415\n",
            "Epoch 75/100\n",
            "12/12 [==============================] - 0s 6ms/step - loss: 0.1070 - accuracy: 0.9738 - val_loss: 0.1556 - val_accuracy: 0.9415\n",
            "Epoch 76/100\n",
            "12/12 [==============================] - 0s 5ms/step - loss: 0.1061 - accuracy: 0.9738 - val_loss: 0.1548 - val_accuracy: 0.9415\n",
            "Epoch 77/100\n",
            "12/12 [==============================] - 0s 5ms/step - loss: 0.1053 - accuracy: 0.9738 - val_loss: 0.1541 - val_accuracy: 0.9415\n",
            "Epoch 78/100\n",
            "12/12 [==============================] - 0s 6ms/step - loss: 0.1044 - accuracy: 0.9738 - val_loss: 0.1534 - val_accuracy: 0.9415\n",
            "Epoch 79/100\n",
            "12/12 [==============================] - 0s 5ms/step - loss: 0.1036 - accuracy: 0.9738 - val_loss: 0.1527 - val_accuracy: 0.9415\n",
            "Epoch 80/100\n",
            "12/12 [==============================] - 0s 4ms/step - loss: 0.1028 - accuracy: 0.9738 - val_loss: 0.1520 - val_accuracy: 0.9415\n",
            "Epoch 81/100\n",
            "12/12 [==============================] - 0s 6ms/step - loss: 0.1020 - accuracy: 0.9738 - val_loss: 0.1511 - val_accuracy: 0.9415\n",
            "Epoch 82/100\n",
            "12/12 [==============================] - 0s 5ms/step - loss: 0.1012 - accuracy: 0.9738 - val_loss: 0.1505 - val_accuracy: 0.9415\n",
            "Epoch 83/100\n",
            "12/12 [==============================] - 0s 5ms/step - loss: 0.1005 - accuracy: 0.9738 - val_loss: 0.1498 - val_accuracy: 0.9415\n",
            "Epoch 84/100\n",
            "12/12 [==============================] - 0s 6ms/step - loss: 0.0998 - accuracy: 0.9790 - val_loss: 0.1492 - val_accuracy: 0.9468\n",
            "Epoch 85/100\n",
            "12/12 [==============================] - 0s 6ms/step - loss: 0.0990 - accuracy: 0.9790 - val_loss: 0.1486 - val_accuracy: 0.9468\n",
            "Epoch 86/100\n",
            "12/12 [==============================] - 0s 5ms/step - loss: 0.0984 - accuracy: 0.9790 - val_loss: 0.1479 - val_accuracy: 0.9468\n",
            "Epoch 87/100\n",
            "12/12 [==============================] - 0s 4ms/step - loss: 0.0977 - accuracy: 0.9790 - val_loss: 0.1473 - val_accuracy: 0.9468\n",
            "Epoch 88/100\n",
            "12/12 [==============================] - 0s 6ms/step - loss: 0.0970 - accuracy: 0.9790 - val_loss: 0.1467 - val_accuracy: 0.9468\n",
            "Epoch 89/100\n",
            "12/12 [==============================] - 0s 4ms/step - loss: 0.0963 - accuracy: 0.9790 - val_loss: 0.1462 - val_accuracy: 0.9468\n",
            "Epoch 90/100\n",
            "12/12 [==============================] - 0s 6ms/step - loss: 0.0957 - accuracy: 0.9790 - val_loss: 0.1456 - val_accuracy: 0.9468\n",
            "Epoch 91/100\n",
            "12/12 [==============================] - 0s 5ms/step - loss: 0.0951 - accuracy: 0.9790 - val_loss: 0.1451 - val_accuracy: 0.9468\n",
            "Epoch 92/100\n",
            "12/12 [==============================] - 0s 6ms/step - loss: 0.0944 - accuracy: 0.9816 - val_loss: 0.1444 - val_accuracy: 0.9468\n",
            "Epoch 93/100\n",
            "12/12 [==============================] - 0s 5ms/step - loss: 0.0939 - accuracy: 0.9816 - val_loss: 0.1439 - val_accuracy: 0.9468\n",
            "Epoch 94/100\n",
            "12/12 [==============================] - 0s 5ms/step - loss: 0.0932 - accuracy: 0.9816 - val_loss: 0.1434 - val_accuracy: 0.9468\n",
            "Epoch 95/100\n",
            "12/12 [==============================] - 0s 4ms/step - loss: 0.0927 - accuracy: 0.9816 - val_loss: 0.1429 - val_accuracy: 0.9468\n",
            "Epoch 96/100\n",
            "12/12 [==============================] - 0s 5ms/step - loss: 0.0921 - accuracy: 0.9816 - val_loss: 0.1424 - val_accuracy: 0.9468\n",
            "Epoch 97/100\n",
            "12/12 [==============================] - 0s 4ms/step - loss: 0.0916 - accuracy: 0.9816 - val_loss: 0.1419 - val_accuracy: 0.9468\n",
            "Epoch 98/100\n",
            "12/12 [==============================] - 0s 4ms/step - loss: 0.0910 - accuracy: 0.9816 - val_loss: 0.1414 - val_accuracy: 0.9468\n",
            "Epoch 99/100\n",
            "12/12 [==============================] - 0s 5ms/step - loss: 0.0905 - accuracy: 0.9816 - val_loss: 0.1409 - val_accuracy: 0.9468\n",
            "Epoch 100/100\n",
            "12/12 [==============================] - 0s 4ms/step - loss: 0.0899 - accuracy: 0.9816 - val_loss: 0.1405 - val_accuracy: 0.9468\n",
            "12/12 [==============================] - 0s 2ms/step - loss: 0.0896 - accuracy: 0.9816\n",
            "Train Score:  [0.08963480591773987, 0.9816272854804993]\n",
            "6/6 [==============================] - 0s 3ms/step - loss: 0.1405 - accuracy: 0.9468\n",
            "Test  Score:  [0.14050555229187012, 0.9468085169792175]\n"
          ]
        }
      ]
    },
    {
      "cell_type": "code",
      "source": [
        "# Plot what is returned by the function\n",
        "import matplotlib.pyplot as plt\n",
        "plt.plot(r.history['loss'], label='loss')\n",
        "plt.plot(r.history['val_loss'], label='val_loss')"
      ],
      "metadata": {
        "colab": {
          "base_uri": "https://localhost:8080/",
          "height": 282
        },
        "id": "T4WwrpypNkuX",
        "outputId": "b0ecb31e-c533-42c1-edf6-f4df0a17bfc8"
      },
      "execution_count": null,
      "outputs": [
        {
          "output_type": "execute_result",
          "data": {
            "text/plain": [
              "[<matplotlib.lines.Line2D at 0x7f693981c1d0>]"
            ]
          },
          "metadata": {},
          "execution_count": 29
        },
        {
          "output_type": "display_data",
          "data": {
            "text/plain": [
              "<Figure size 432x288 with 1 Axes>"
            ],
            "image/png": "[encoded data removed]"
          },
          "metadata": {
            "needs_background": "light"
          }
        }
      ]
    },
    {
      "cell_type": "code",
      "source": [
        "plt.plot(r.history['accuracy'], label='acc')\n",
        "plt.plot(r.history['val_accuracy'], label='val_accuracy')\n",
        "plt.legend()"
      ],
      "metadata": {
        "colab": {
          "base_uri": "https://localhost:8080/",
          "height": 285
        },
        "id": "wfDjO5soNQw9",
        "outputId": "4f753658-f5a7-4d21-c24c-5e87f9d1241b"
      },
      "execution_count": null,
      "outputs": [
        {
          "output_type": "execute_result",
          "data": {
            "text/plain": [
              "<matplotlib.legend.Legend at 0x7f693ed14050>"
            ]
          },
          "metadata": {},
          "execution_count": 30
        },
        {
          "output_type": "display_data",
          "data": {
            "text/plain": [
              "<Figure size 432x288 with 1 Axes>"
            ],
            "image/png": "[encoded data removed]"
          },
          "metadata": {
            "needs_background": "light"
          }
        }
      ]
    },
    {
      "cell_type": "code",
      "source": [
        ""
      ],
      "metadata": {
        "id": "MlYMEqVOLL6W"
      },
      "execution_count": null,
      "outputs": []
    }
  ]
}