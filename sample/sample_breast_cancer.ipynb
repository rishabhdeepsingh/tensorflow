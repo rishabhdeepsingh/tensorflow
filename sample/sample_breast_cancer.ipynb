{
  "nbformat": 4,
  "nbformat_minor": 0,
  "metadata": {
    "colab": {
      "name": "sample_breast_cancer.ipynb",
      "provenance": [],
      "collapsed_sections": [],
      "authorship_tag": "ABX9TyOM5ARMSjSXfvQumMswE48d",
      "include_colab_link": true
    },
    "kernelspec": {
      "name": "python3",
      "display_name": "Python 3"
    },
    "language_info": {
      "name": "python"
    }
  },
  "cells": [
    {
      "cell_type": "markdown",
      "metadata": {
        "id": "view-in-github",
        "colab_type": "text"
      },
      "source": [
        "<a href=\"https://colab.research.google.com/github/rishabhdeepsingh/tensorflow/blob/main/sample/sample_breast_cancer.ipynb\" target=\"_parent\"><img src=\"https://colab.research.google.com/assets/colab-badge.svg\" alt=\"Open In Colab\"/></a>"
      ]
    },
    {
      "cell_type": "code",
      "execution_count": 2,
      "metadata": {
        "id": "jy2Xo2xEKXBV",
        "colab": {
          "base_uri": "https://localhost:8080/"
        },
        "outputId": "6266061b-0e73-40a2-871a-2f15d3fbd0fc"
      },
      "outputs": [
        {
          "output_type": "stream",
          "name": "stdout",
          "text": [
            "\u001b[?25l\r\u001b[K     |▊                               | 10 kB 27.4 MB/s eta 0:00:01\r\u001b[K     |█▍                              | 20 kB 32.4 MB/s eta 0:00:01\r\u001b[K     |██▏                             | 30 kB 13.7 MB/s eta 0:00:01\r\u001b[K     |██▉                             | 40 kB 4.8 MB/s eta 0:00:01\r\u001b[K     |███▌                            | 51 kB 4.7 MB/s eta 0:00:01\r\u001b[K     |████▎                           | 61 kB 5.5 MB/s eta 0:00:01\r\u001b[K     |█████                           | 71 kB 6.0 MB/s eta 0:00:01\r\u001b[K     |█████▊                          | 81 kB 5.8 MB/s eta 0:00:01\r\u001b[K     |██████▍                         | 92 kB 6.4 MB/s eta 0:00:01\r\u001b[K     |███████                         | 102 kB 5.3 MB/s eta 0:00:01\r\u001b[K     |███████▉                        | 112 kB 5.3 MB/s eta 0:00:01\r\u001b[K     |████████▌                       | 122 kB 5.3 MB/s eta 0:00:01\r\u001b[K     |█████████▏                      | 133 kB 5.3 MB/s eta 0:00:01\r\u001b[K     |██████████                      | 143 kB 5.3 MB/s eta 0:00:01\r\u001b[K     |██████████▋                     | 153 kB 5.3 MB/s eta 0:00:01\r\u001b[K     |███████████▍                    | 163 kB 5.3 MB/s eta 0:00:01\r\u001b[K     |████████████                    | 174 kB 5.3 MB/s eta 0:00:01\r\u001b[K     |████████████▊                   | 184 kB 5.3 MB/s eta 0:00:01\r\u001b[K     |█████████████▌                  | 194 kB 5.3 MB/s eta 0:00:01\r\u001b[K     |██████████████▏                 | 204 kB 5.3 MB/s eta 0:00:01\r\u001b[K     |██████████████▉                 | 215 kB 5.3 MB/s eta 0:00:01\r\u001b[K     |███████████████▋                | 225 kB 5.3 MB/s eta 0:00:01\r\u001b[K     |████████████████▎               | 235 kB 5.3 MB/s eta 0:00:01\r\u001b[K     |█████████████████               | 245 kB 5.3 MB/s eta 0:00:01\r\u001b[K     |█████████████████▊              | 256 kB 5.3 MB/s eta 0:00:01\r\u001b[K     |██████████████████▍             | 266 kB 5.3 MB/s eta 0:00:01\r\u001b[K     |███████████████████▏            | 276 kB 5.3 MB/s eta 0:00:01\r\u001b[K     |███████████████████▉            | 286 kB 5.3 MB/s eta 0:00:01\r\u001b[K     |████████████████████▌           | 296 kB 5.3 MB/s eta 0:00:01\r\u001b[K     |█████████████████████▎          | 307 kB 5.3 MB/s eta 0:00:01\r\u001b[K     |██████████████████████          | 317 kB 5.3 MB/s eta 0:00:01\r\u001b[K     |██████████████████████▊         | 327 kB 5.3 MB/s eta 0:00:01\r\u001b[K     |███████████████████████▍        | 337 kB 5.3 MB/s eta 0:00:01\r\u001b[K     |████████████████████████        | 348 kB 5.3 MB/s eta 0:00:01\r\u001b[K     |████████████████████████▉       | 358 kB 5.3 MB/s eta 0:00:01\r\u001b[K     |█████████████████████████▌      | 368 kB 5.3 MB/s eta 0:00:01\r\u001b[K     |██████████████████████████▏     | 378 kB 5.3 MB/s eta 0:00:01\r\u001b[K     |███████████████████████████     | 389 kB 5.3 MB/s eta 0:00:01\r\u001b[K     |███████████████████████████▋    | 399 kB 5.3 MB/s eta 0:00:01\r\u001b[K     |████████████████████████████▍   | 409 kB 5.3 MB/s eta 0:00:01\r\u001b[K     |█████████████████████████████   | 419 kB 5.3 MB/s eta 0:00:01\r\u001b[K     |█████████████████████████████▊  | 430 kB 5.3 MB/s eta 0:00:01\r\u001b[K     |██████████████████████████████▌ | 440 kB 5.3 MB/s eta 0:00:01\r\u001b[K     |███████████████████████████████▏| 450 kB 5.3 MB/s eta 0:00:01\r\u001b[K     |███████████████████████████████▉| 460 kB 5.3 MB/s eta 0:00:01\r\u001b[K     |████████████████████████████████| 462 kB 5.3 MB/s \n",
            "\u001b[?25h"
          ]
        }
      ],
      "source": [
        "!pip install -q tensorflow"
      ]
    },
    {
      "cell_type": "code",
      "source": [
        "import tensorflow as tf"
      ],
      "metadata": {
        "id": "MDurPudZNNVb"
      },
      "execution_count": 3,
      "outputs": []
    },
    {
      "cell_type": "code",
      "source": [
        "from sklearn.datasets import load_breast_cancer"
      ],
      "metadata": {
        "id": "iCHs-NOCK7rt"
      },
      "execution_count": 4,
      "outputs": []
    },
    {
      "cell_type": "code",
      "source": [
        "data = load_breast_cancer()"
      ],
      "metadata": {
        "id": "Qu-nuw_ZLCaW"
      },
      "execution_count": 5,
      "outputs": []
    },
    {
      "cell_type": "code",
      "source": [
        "type(data)"
      ],
      "metadata": {
        "colab": {
          "base_uri": "https://localhost:8080/"
        },
        "id": "J4D1JAorLE9x",
        "outputId": "c860501e-c7e7-4fd6-870c-86b3f5c61d7b"
      },
      "execution_count": 6,
      "outputs": [
        {
          "output_type": "execute_result",
          "data": {
            "text/plain": [
              "sklearn.utils.Bunch"
            ]
          },
          "metadata": {},
          "execution_count": 6
        }
      ]
    },
    {
      "cell_type": "code",
      "source": [
        "data.keys()"
      ],
      "metadata": {
        "colab": {
          "base_uri": "https://localhost:8080/"
        },
        "id": "Kt2eSj6FLHCq",
        "outputId": "3d7b09c6-26c9-4680-f190-7fff71ba91bb"
      },
      "execution_count": 7,
      "outputs": [
        {
          "output_type": "execute_result",
          "data": {
            "text/plain": [
              "dict_keys(['data', 'target', 'frame', 'target_names', 'DESCR', 'feature_names', 'filename', 'data_module'])"
            ]
          },
          "metadata": {},
          "execution_count": 7
        }
      ]
    },
    {
      "cell_type": "code",
      "source": [
        "data.data.shape"
      ],
      "metadata": {
        "colab": {
          "base_uri": "https://localhost:8080/"
        },
        "id": "00NGtjdhLNPk",
        "outputId": "5bb01923-1812-4ca5-c7e2-9ffea1333acf"
      },
      "execution_count": 8,
      "outputs": [
        {
          "output_type": "execute_result",
          "data": {
            "text/plain": [
              "(569, 30)"
            ]
          },
          "metadata": {},
          "execution_count": 8
        }
      ]
    },
    {
      "cell_type": "code",
      "source": [
        "data.target"
      ],
      "metadata": {
        "colab": {
          "base_uri": "https://localhost:8080/"
        },
        "id": "vcTYY227Llzm",
        "outputId": "d4ae4cbf-c167-4f5c-e8eb-f6774b1281cb"
      },
      "execution_count": 9,
      "outputs": [
        {
          "output_type": "execute_result",
          "data": {
            "text/plain": [
              "array([0, 0, 0, 0, 0, 0, 0, 0, 0, 0, 0, 0, 0, 0, 0, 0, 0, 0, 0, 1, 1, 1,\n",
              "       0, 0, 0, 0, 0, 0, 0, 0, 0, 0, 0, 0, 0, 0, 0, 1, 0, 0, 0, 0, 0, 0,\n",
              "       0, 0, 1, 0, 1, 1, 1, 1, 1, 0, 0, 1, 0, 0, 1, 1, 1, 1, 0, 1, 0, 0,\n",
              "       1, 1, 1, 1, 0, 1, 0, 0, 1, 0, 1, 0, 0, 1, 1, 1, 0, 0, 1, 0, 0, 0,\n",
              "       1, 1, 1, 0, 1, 1, 0, 0, 1, 1, 1, 0, 0, 1, 1, 1, 1, 0, 1, 1, 0, 1,\n",
              "       1, 1, 1, 1, 1, 1, 1, 0, 0, 0, 1, 0, 0, 1, 1, 1, 0, 0, 1, 0, 1, 0,\n",
              "       0, 1, 0, 0, 1, 1, 0, 1, 1, 0, 1, 1, 1, 1, 0, 1, 1, 1, 1, 1, 1, 1,\n",
              "       1, 1, 0, 1, 1, 1, 1, 0, 0, 1, 0, 1, 1, 0, 0, 1, 1, 0, 0, 1, 1, 1,\n",
              "       1, 0, 1, 1, 0, 0, 0, 1, 0, 1, 0, 1, 1, 1, 0, 1, 1, 0, 0, 1, 0, 0,\n",
              "       0, 0, 1, 0, 0, 0, 1, 0, 1, 0, 1, 1, 0, 1, 0, 0, 0, 0, 1, 1, 0, 0,\n",
              "       1, 1, 1, 0, 1, 1, 1, 1, 1, 0, 0, 1, 1, 0, 1, 1, 0, 0, 1, 0, 1, 1,\n",
              "       1, 1, 0, 1, 1, 1, 1, 1, 0, 1, 0, 0, 0, 0, 0, 0, 0, 0, 0, 0, 0, 0,\n",
              "       0, 0, 1, 1, 1, 1, 1, 1, 0, 1, 0, 1, 1, 0, 1, 1, 0, 1, 0, 0, 1, 1,\n",
              "       1, 1, 1, 1, 1, 1, 1, 1, 1, 1, 1, 0, 1, 1, 0, 1, 0, 1, 1, 1, 1, 1,\n",
              "       1, 1, 1, 1, 1, 1, 1, 1, 1, 0, 1, 1, 1, 0, 1, 0, 1, 1, 1, 1, 0, 0,\n",
              "       0, 1, 1, 1, 1, 0, 1, 0, 1, 0, 1, 1, 1, 0, 1, 1, 1, 1, 1, 1, 1, 0,\n",
              "       0, 0, 1, 1, 1, 1, 1, 1, 1, 1, 1, 1, 1, 0, 0, 1, 0, 0, 0, 1, 0, 0,\n",
              "       1, 1, 1, 1, 1, 0, 1, 1, 1, 1, 1, 0, 1, 1, 1, 0, 1, 1, 0, 0, 1, 1,\n",
              "       1, 1, 1, 1, 0, 1, 1, 1, 1, 1, 1, 1, 0, 1, 1, 1, 1, 1, 0, 1, 1, 0,\n",
              "       1, 1, 1, 1, 1, 1, 1, 1, 1, 1, 1, 1, 0, 1, 0, 0, 1, 0, 1, 1, 1, 1,\n",
              "       1, 0, 1, 1, 0, 1, 0, 1, 1, 0, 1, 0, 1, 1, 1, 1, 1, 1, 1, 1, 0, 0,\n",
              "       1, 1, 1, 1, 1, 1, 0, 1, 1, 1, 1, 1, 1, 1, 1, 1, 1, 0, 1, 1, 1, 1,\n",
              "       1, 1, 1, 0, 1, 0, 1, 1, 0, 1, 1, 1, 1, 1, 0, 0, 1, 0, 1, 0, 1, 1,\n",
              "       1, 1, 1, 0, 1, 1, 0, 1, 0, 1, 0, 0, 1, 1, 1, 0, 1, 1, 1, 1, 1, 1,\n",
              "       1, 1, 1, 1, 1, 0, 1, 0, 0, 1, 1, 1, 1, 1, 1, 1, 1, 1, 1, 1, 1, 1,\n",
              "       1, 1, 1, 1, 1, 1, 1, 1, 1, 1, 1, 1, 0, 0, 0, 0, 0, 0, 1])"
            ]
          },
          "metadata": {},
          "execution_count": 9
        }
      ]
    },
    {
      "cell_type": "code",
      "source": [
        "data.target_names"
      ],
      "metadata": {
        "colab": {
          "base_uri": "https://localhost:8080/"
        },
        "id": "1Hn4CNL3LpE-",
        "outputId": "39200d86-932f-4191-8dec-3044518986f3"
      },
      "execution_count": 10,
      "outputs": [
        {
          "output_type": "execute_result",
          "data": {
            "text/plain": [
              "array(['malignant', 'benign'], dtype='<U9')"
            ]
          },
          "metadata": {},
          "execution_count": 10
        }
      ]
    },
    {
      "cell_type": "code",
      "source": [
        "data.target.shape"
      ],
      "metadata": {
        "colab": {
          "base_uri": "https://localhost:8080/"
        },
        "id": "I1XUV0kULtQ6",
        "outputId": "3924208f-6906-473f-a26a-df08b7cf9d0f"
      },
      "execution_count": 11,
      "outputs": [
        {
          "output_type": "execute_result",
          "data": {
            "text/plain": [
              "(569,)"
            ]
          },
          "metadata": {},
          "execution_count": 11
        }
      ]
    },
    {
      "cell_type": "code",
      "source": [
        "data.feature_names"
      ],
      "metadata": {
        "colab": {
          "base_uri": "https://localhost:8080/"
        },
        "id": "kZeba1g1Ly83",
        "outputId": "b3f19273-8dae-4ccf-e4c8-d99322f91982"
      },
      "execution_count": 12,
      "outputs": [
        {
          "output_type": "execute_result",
          "data": {
            "text/plain": [
              "array(['mean radius', 'mean texture', 'mean perimeter', 'mean area',\n",
              "       'mean smoothness', 'mean compactness', 'mean concavity',\n",
              "       'mean concave points', 'mean symmetry', 'mean fractal dimension',\n",
              "       'radius error', 'texture error', 'perimeter error', 'area error',\n",
              "       'smoothness error', 'compactness error', 'concavity error',\n",
              "       'concave points error', 'symmetry error',\n",
              "       'fractal dimension error', 'worst radius', 'worst texture',\n",
              "       'worst perimeter', 'worst area', 'worst smoothness',\n",
              "       'worst compactness', 'worst concavity', 'worst concave points',\n",
              "       'worst symmetry', 'worst fractal dimension'], dtype='<U23')"
            ]
          },
          "metadata": {},
          "execution_count": 12
        }
      ]
    },
    {
      "cell_type": "code",
      "source": [
        "from sklearn.model_selection import train_test_split"
      ],
      "metadata": {
        "id": "XzbacqV3L1p7"
      },
      "execution_count": 13,
      "outputs": []
    },
    {
      "cell_type": "code",
      "source": [
        "X_train, X_test, Y_train, Y_test = train_test_split(data.data, data.target, test_size=0.33)\n",
        "N, D = X_train.shape"
      ],
      "metadata": {
        "id": "5uGKJIqVMFe7"
      },
      "execution_count": 14,
      "outputs": []
    },
    {
      "cell_type": "code",
      "source": [
        "from sklearn.preprocessing import StandardScaler"
      ],
      "metadata": {
        "id": "PlKiZLj5MT4Y"
      },
      "execution_count": 15,
      "outputs": []
    },
    {
      "cell_type": "code",
      "source": [
        "scalar = StandardScaler()\n",
        "X_train = scalar.fit_transform(X_train)\n",
        "X_test = scalar.transform(X_test)"
      ],
      "metadata": {
        "id": "N4bleQypMZKD"
      },
      "execution_count": 16,
      "outputs": []
    },
    {
      "cell_type": "code",
      "source": [
        "model = tf.keras.models.Sequential([\n",
        "  tf.keras.layers.Input(shape=(D,)),\n",
        "  tf.keras.layers.Dense(1, activation='sigmoid')\n",
        "])\n",
        "\n",
        "model.compile(optimizer='adam',\n",
        "              loss='binary_crossentropy',\n",
        "              metrics=['accuracy'])\n",
        "\n",
        "r = model.fit(X_train, Y_train, validation_data=(X_test, Y_test), epochs=100, verbose=0)\n",
        "\n",
        "print(\"Train Score: \", model.evaluate(X_train, Y_train))\n",
        "print(\"Test  Score: \", model.evaluate(X_test, Y_test))"
      ],
      "metadata": {
        "colab": {
          "base_uri": "https://localhost:8080/"
        },
        "id": "tsT2eGx7Mlrs",
        "outputId": "11b9ff43-53f6-42e5-e1a0-a9071ecdb3fe"
      },
      "execution_count": 20,
      "outputs": [
        {
          "output_type": "stream",
          "name": "stdout",
          "text": [
            "12/12 [==============================] - 0s 2ms/step - loss: 0.1011 - accuracy: 0.9738\n",
            "Train Score:  [0.10107125341892242, 0.9737532734870911]\n",
            "6/6 [==============================] - 0s 6ms/step - loss: 0.1201 - accuracy: 0.9628\n",
            "Test  Score:  [0.12013218551874161, 0.9627659320831299]\n"
          ]
        }
      ]
    },
    {
      "cell_type": "code",
      "source": [
        "# Plot what is returned by the function\n",
        "import matplotlib.pyplot as plt\n",
        "plt.plot(r.history['loss'], label='loss')\n",
        "plt.plot(r.history['val_loss'], label='val_loss')"
      ],
      "metadata": {
        "colab": {
          "base_uri": "https://localhost:8080/",
          "height": 282
        },
        "id": "T4WwrpypNkuX",
        "outputId": "26dcd18e-ca27-46d7-9a4b-7f5e9a684430"
      },
      "execution_count": 18,
      "outputs": [
        {
          "output_type": "execute_result",
          "data": {
            "text/plain": [
              "[<matplotlib.lines.Line2D at 0x7fae611aee10>]"
            ]
          },
          "metadata": {},
          "execution_count": 18
        },
        {
          "output_type": "display_data",
          "data": {
            "text/plain": [
              "<Figure size 432x288 with 1 Axes>"
            ],
            "image/png": "[encoded data removed]"
          },
          "metadata": {
            "needs_background": "light"
          }
        }
      ]
    },
    {
      "cell_type": "code",
      "source": [
        "plt.plot(r.history['accuracy'], label='acc')\n",
        "plt.plot(r.history['val_accuracy'], label='val_accuracy')\n",
        "plt.legend()"
      ],
      "metadata": {
        "colab": {
          "base_uri": "https://localhost:8080/",
          "height": 284
        },
        "id": "wfDjO5soNQw9",
        "outputId": "d52e665f-5300-4db1-afe0-6d383d62e857"
      },
      "execution_count": 19,
      "outputs": [
        {
          "output_type": "execute_result",
          "data": {
            "text/plain": [
              "<matplotlib.legend.Legend at 0x7fae5f99cc90>"
            ]
          },
          "metadata": {},
          "execution_count": 19
        },
        {
          "output_type": "display_data",
          "data": {
            "text/plain": [
              "<Figure size 432x288 with 1 Axes>"
            ],
            "image/png": "[encoded data removed]"
          },
          "metadata": {
            "needs_background": "light"
          }
        }
      ]
    },
    {
      "cell_type": "code",
      "source": [
        ""
      ],
      "metadata": {
        "id": "MlYMEqVOLL6W"
      },
      "execution_count": 19,
      "outputs": []
    }
  ]
}