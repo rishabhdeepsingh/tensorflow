{
  "nbformat": 4,
  "nbformat_minor": 0,
  "metadata": {
    "colab": {
      "name": "sample_breast_cancer.ipynb",
      "provenance": [],
      "collapsed_sections": [],
      "include_colab_link": true
    },
    "kernelspec": {
      "name": "python3",
      "display_name": "Python 3"
    },
    "language_info": {
      "name": "python"
    }
  },
  "cells": [
    {
      "cell_type": "markdown",
      "metadata": {
        "id": "view-in-github",
        "colab_type": "text"
      },
      "source": [
        "<a href=\"https://colab.research.google.com/github/rishabhdeepsingh/tensorflow/blob/main/03MachineLearningAndNeurons/linear_regression.ipynb\" target=\"_parent\"><img src=\"https://colab.research.google.com/assets/colab-badge.svg\" alt=\"Open In Colab\"/></a>"
      ]
    },
    {
      "cell_type": "code",
      "execution_count": 2,
      "metadata": {
        "id": "jy2Xo2xEKXBV",
        "colab": {
          "base_uri": "https://localhost:8080/"
        },
        "outputId": "8abee3f8-a099-4941-e1fb-e10de53e774e"
      },
      "outputs": [
        {
          "output_type": "stream",
          "name": "stdout",
          "text": [
            "\u001b[?25l\r\u001b[K     |▊                               | 10 kB 961 kB/s eta 0:00:01\r\u001b[K     |█▍                              | 20 kB 1.9 MB/s eta 0:00:01\r\u001b[K     |██▏                             | 30 kB 2.7 MB/s eta 0:00:01\r\u001b[K     |██▉                             | 40 kB 3.5 MB/s eta 0:00:01\r\u001b[K     |███▌                            | 51 kB 4.3 MB/s eta 0:00:01\r\u001b[K     |████▎                           | 61 kB 5.1 MB/s eta 0:00:01\r\u001b[K     |█████                           | 71 kB 5.8 MB/s eta 0:00:01\r\u001b[K     |█████▊                          | 81 kB 6.5 MB/s eta 0:00:01\r\u001b[K     |██████▍                         | 92 kB 7.2 MB/s eta 0:00:01\r\u001b[K     |███████                         | 102 kB 6.7 MB/s eta 0:00:01\r\u001b[K     |███████▉                        | 112 kB 6.7 MB/s eta 0:00:01\r\u001b[K     |████████▌                       | 122 kB 6.7 MB/s eta 0:00:01\r\u001b[K     |█████████▏                      | 133 kB 6.7 MB/s eta 0:00:01\r\u001b[K     |██████████                      | 143 kB 6.7 MB/s eta 0:00:01\r\u001b[K     |██████████▋                     | 153 kB 6.7 MB/s eta 0:00:01\r\u001b[K     |███████████▍                    | 163 kB 6.7 MB/s eta 0:00:01\r\u001b[K     |████████████                    | 174 kB 6.7 MB/s eta 0:00:01\r\u001b[K     |████████████▊                   | 184 kB 6.7 MB/s eta 0:00:01\r\u001b[K     |█████████████▌                  | 194 kB 6.7 MB/s eta 0:00:01\r\u001b[K     |██████████████▏                 | 204 kB 6.7 MB/s eta 0:00:01\r\u001b[K     |██████████████▉                 | 215 kB 6.7 MB/s eta 0:00:01\r\u001b[K     |███████████████▋                | 225 kB 6.7 MB/s eta 0:00:01\r\u001b[K     |████████████████▎               | 235 kB 6.7 MB/s eta 0:00:01\r\u001b[K     |█████████████████               | 245 kB 6.7 MB/s eta 0:00:01\r\u001b[K     |█████████████████▊              | 256 kB 6.7 MB/s eta 0:00:01\r\u001b[K     |██████████████████▍             | 266 kB 6.7 MB/s eta 0:00:01\r\u001b[K     |███████████████████▏            | 276 kB 6.7 MB/s eta 0:00:01\r\u001b[K     |███████████████████▉            | 286 kB 6.7 MB/s eta 0:00:01\r\u001b[K     |████████████████████▌           | 296 kB 6.7 MB/s eta 0:00:01\r\u001b[K     |█████████████████████▎          | 307 kB 6.7 MB/s eta 0:00:01\r\u001b[K     |██████████████████████          | 317 kB 6.7 MB/s eta 0:00:01\r\u001b[K     |██████████████████████▊         | 327 kB 6.7 MB/s eta 0:00:01\r\u001b[K     |███████████████████████▍        | 337 kB 6.7 MB/s eta 0:00:01\r\u001b[K     |████████████████████████        | 348 kB 6.7 MB/s eta 0:00:01\r\u001b[K     |████████████████████████▉       | 358 kB 6.7 MB/s eta 0:00:01\r\u001b[K     |█████████████████████████▌      | 368 kB 6.7 MB/s eta 0:00:01\r\u001b[K     |██████████████████████████▏     | 378 kB 6.7 MB/s eta 0:00:01\r\u001b[K     |███████████████████████████     | 389 kB 6.7 MB/s eta 0:00:01\r\u001b[K     |███████████████████████████▋    | 399 kB 6.7 MB/s eta 0:00:01\r\u001b[K     |████████████████████████████▍   | 409 kB 6.7 MB/s eta 0:00:01\r\u001b[K     |█████████████████████████████   | 419 kB 6.7 MB/s eta 0:00:01\r\u001b[K     |█████████████████████████████▊  | 430 kB 6.7 MB/s eta 0:00:01\r\u001b[K     |██████████████████████████████▌ | 440 kB 6.7 MB/s eta 0:00:01\r\u001b[K     |███████████████████████████████▏| 450 kB 6.7 MB/s eta 0:00:01\r\u001b[K     |███████████████████████████████▉| 460 kB 6.7 MB/s eta 0:00:01\r\u001b[K     |████████████████████████████████| 462 kB 6.7 MB/s \n",
            "\u001b[?25h"
          ]
        }
      ],
      "source": [
        "!pip install -q tensorflow"
      ]
    },
    {
      "cell_type": "code",
      "source": [
        "import tensorflow as tf"
      ],
      "metadata": {
        "id": "MDurPudZNNVb"
      },
      "execution_count": 3,
      "outputs": []
    },
    {
      "cell_type": "code",
      "source": [
        "from sklearn.datasets import load_breast_cancer"
      ],
      "metadata": {
        "id": "iCHs-NOCK7rt"
      },
      "execution_count": 4,
      "outputs": []
    },
    {
      "cell_type": "code",
      "source": [
        "data = load_breast_cancer()"
      ],
      "metadata": {
        "id": "Qu-nuw_ZLCaW"
      },
      "execution_count": 5,
      "outputs": []
    },
    {
      "cell_type": "code",
      "source": [
        "type(data)"
      ],
      "metadata": {
        "colab": {
          "base_uri": "https://localhost:8080/"
        },
        "id": "J4D1JAorLE9x",
        "outputId": "7beb6cac-ce83-4c1c-c7a6-2b0c746bb7c6"
      },
      "execution_count": 6,
      "outputs": [
        {
          "output_type": "execute_result",
          "data": {
            "text/plain": [
              "sklearn.utils.Bunch"
            ]
          },
          "metadata": {},
          "execution_count": 6
        }
      ]
    },
    {
      "cell_type": "code",
      "source": [
        "data.keys()"
      ],
      "metadata": {
        "colab": {
          "base_uri": "https://localhost:8080/"
        },
        "id": "Kt2eSj6FLHCq",
        "outputId": "4cec27bb-ccee-4e53-9738-1310757c7893"
      },
      "execution_count": 7,
      "outputs": [
        {
          "output_type": "execute_result",
          "data": {
            "text/plain": [
              "dict_keys(['data', 'target', 'frame', 'target_names', 'DESCR', 'feature_names', 'filename', 'data_module'])"
            ]
          },
          "metadata": {},
          "execution_count": 7
        }
      ]
    },
    {
      "cell_type": "code",
      "source": [
        "data.data.shape"
      ],
      "metadata": {
        "colab": {
          "base_uri": "https://localhost:8080/"
        },
        "id": "00NGtjdhLNPk",
        "outputId": "c7683aac-ab23-4bd9-e16b-7cc505c39d15"
      },
      "execution_count": 8,
      "outputs": [
        {
          "output_type": "execute_result",
          "data": {
            "text/plain": [
              "(569, 30)"
            ]
          },
          "metadata": {},
          "execution_count": 8
        }
      ]
    },
    {
      "cell_type": "code",
      "source": [
        "data.target"
      ],
      "metadata": {
        "colab": {
          "base_uri": "https://localhost:8080/"
        },
        "id": "vcTYY227Llzm",
        "outputId": "df25c4ab-7da8-47b7-8d46-dff588cb64d6"
      },
      "execution_count": 9,
      "outputs": [
        {
          "output_type": "execute_result",
          "data": {
            "text/plain": [
              "array([0, 0, 0, 0, 0, 0, 0, 0, 0, 0, 0, 0, 0, 0, 0, 0, 0, 0, 0, 1, 1, 1,\n",
              "       0, 0, 0, 0, 0, 0, 0, 0, 0, 0, 0, 0, 0, 0, 0, 1, 0, 0, 0, 0, 0, 0,\n",
              "       0, 0, 1, 0, 1, 1, 1, 1, 1, 0, 0, 1, 0, 0, 1, 1, 1, 1, 0, 1, 0, 0,\n",
              "       1, 1, 1, 1, 0, 1, 0, 0, 1, 0, 1, 0, 0, 1, 1, 1, 0, 0, 1, 0, 0, 0,\n",
              "       1, 1, 1, 0, 1, 1, 0, 0, 1, 1, 1, 0, 0, 1, 1, 1, 1, 0, 1, 1, 0, 1,\n",
              "       1, 1, 1, 1, 1, 1, 1, 0, 0, 0, 1, 0, 0, 1, 1, 1, 0, 0, 1, 0, 1, 0,\n",
              "       0, 1, 0, 0, 1, 1, 0, 1, 1, 0, 1, 1, 1, 1, 0, 1, 1, 1, 1, 1, 1, 1,\n",
              "       1, 1, 0, 1, 1, 1, 1, 0, 0, 1, 0, 1, 1, 0, 0, 1, 1, 0, 0, 1, 1, 1,\n",
              "       1, 0, 1, 1, 0, 0, 0, 1, 0, 1, 0, 1, 1, 1, 0, 1, 1, 0, 0, 1, 0, 0,\n",
              "       0, 0, 1, 0, 0, 0, 1, 0, 1, 0, 1, 1, 0, 1, 0, 0, 0, 0, 1, 1, 0, 0,\n",
              "       1, 1, 1, 0, 1, 1, 1, 1, 1, 0, 0, 1, 1, 0, 1, 1, 0, 0, 1, 0, 1, 1,\n",
              "       1, 1, 0, 1, 1, 1, 1, 1, 0, 1, 0, 0, 0, 0, 0, 0, 0, 0, 0, 0, 0, 0,\n",
              "       0, 0, 1, 1, 1, 1, 1, 1, 0, 1, 0, 1, 1, 0, 1, 1, 0, 1, 0, 0, 1, 1,\n",
              "       1, 1, 1, 1, 1, 1, 1, 1, 1, 1, 1, 0, 1, 1, 0, 1, 0, 1, 1, 1, 1, 1,\n",
              "       1, 1, 1, 1, 1, 1, 1, 1, 1, 0, 1, 1, 1, 0, 1, 0, 1, 1, 1, 1, 0, 0,\n",
              "       0, 1, 1, 1, 1, 0, 1, 0, 1, 0, 1, 1, 1, 0, 1, 1, 1, 1, 1, 1, 1, 0,\n",
              "       0, 0, 1, 1, 1, 1, 1, 1, 1, 1, 1, 1, 1, 0, 0, 1, 0, 0, 0, 1, 0, 0,\n",
              "       1, 1, 1, 1, 1, 0, 1, 1, 1, 1, 1, 0, 1, 1, 1, 0, 1, 1, 0, 0, 1, 1,\n",
              "       1, 1, 1, 1, 0, 1, 1, 1, 1, 1, 1, 1, 0, 1, 1, 1, 1, 1, 0, 1, 1, 0,\n",
              "       1, 1, 1, 1, 1, 1, 1, 1, 1, 1, 1, 1, 0, 1, 0, 0, 1, 0, 1, 1, 1, 1,\n",
              "       1, 0, 1, 1, 0, 1, 0, 1, 1, 0, 1, 0, 1, 1, 1, 1, 1, 1, 1, 1, 0, 0,\n",
              "       1, 1, 1, 1, 1, 1, 0, 1, 1, 1, 1, 1, 1, 1, 1, 1, 1, 0, 1, 1, 1, 1,\n",
              "       1, 1, 1, 0, 1, 0, 1, 1, 0, 1, 1, 1, 1, 1, 0, 0, 1, 0, 1, 0, 1, 1,\n",
              "       1, 1, 1, 0, 1, 1, 0, 1, 0, 1, 0, 0, 1, 1, 1, 0, 1, 1, 1, 1, 1, 1,\n",
              "       1, 1, 1, 1, 1, 0, 1, 0, 0, 1, 1, 1, 1, 1, 1, 1, 1, 1, 1, 1, 1, 1,\n",
              "       1, 1, 1, 1, 1, 1, 1, 1, 1, 1, 1, 1, 0, 0, 0, 0, 0, 0, 1])"
            ]
          },
          "metadata": {},
          "execution_count": 9
        }
      ]
    },
    {
      "cell_type": "code",
      "source": [
        "data.target_names"
      ],
      "metadata": {
        "colab": {
          "base_uri": "https://localhost:8080/"
        },
        "id": "1Hn4CNL3LpE-",
        "outputId": "9a3f7403-6078-4b6c-a3c5-b77bed96492f"
      },
      "execution_count": 10,
      "outputs": [
        {
          "output_type": "execute_result",
          "data": {
            "text/plain": [
              "array(['malignant', 'benign'], dtype='<U9')"
            ]
          },
          "metadata": {},
          "execution_count": 10
        }
      ]
    },
    {
      "cell_type": "code",
      "source": [
        "data.target.shape"
      ],
      "metadata": {
        "colab": {
          "base_uri": "https://localhost:8080/"
        },
        "id": "I1XUV0kULtQ6",
        "outputId": "775a0be0-95b5-4e2e-d49f-4e5b6b67cab5"
      },
      "execution_count": 11,
      "outputs": [
        {
          "output_type": "execute_result",
          "data": {
            "text/plain": [
              "(569,)"
            ]
          },
          "metadata": {},
          "execution_count": 11
        }
      ]
    },
    {
      "cell_type": "code",
      "source": [
        "data.feature_names"
      ],
      "metadata": {
        "colab": {
          "base_uri": "https://localhost:8080/"
        },
        "id": "kZeba1g1Ly83",
        "outputId": "1d9335dc-b6ed-4f19-ccd3-31d7276962e0"
      },
      "execution_count": 12,
      "outputs": [
        {
          "output_type": "execute_result",
          "data": {
            "text/plain": [
              "array(['mean radius', 'mean texture', 'mean perimeter', 'mean area',\n",
              "       'mean smoothness', 'mean compactness', 'mean concavity',\n",
              "       'mean concave points', 'mean symmetry', 'mean fractal dimension',\n",
              "       'radius error', 'texture error', 'perimeter error', 'area error',\n",
              "       'smoothness error', 'compactness error', 'concavity error',\n",
              "       'concave points error', 'symmetry error',\n",
              "       'fractal dimension error', 'worst radius', 'worst texture',\n",
              "       'worst perimeter', 'worst area', 'worst smoothness',\n",
              "       'worst compactness', 'worst concavity', 'worst concave points',\n",
              "       'worst symmetry', 'worst fractal dimension'], dtype='<U23')"
            ]
          },
          "metadata": {},
          "execution_count": 12
        }
      ]
    },
    {
      "cell_type": "code",
      "source": [
        "from sklearn.model_selection import train_test_split"
      ],
      "metadata": {
        "id": "XzbacqV3L1p7"
      },
      "execution_count": 13,
      "outputs": []
    },
    {
      "cell_type": "code",
      "source": [
        "X_train, X_test, Y_train, Y_test = train_test_split(data.data, data.target, test_size=0.33)\n",
        "N, D = X_train.shape"
      ],
      "metadata": {
        "id": "5uGKJIqVMFe7"
      },
      "execution_count": 14,
      "outputs": []
    },
    {
      "cell_type": "code",
      "source": [
        "from sklearn.preprocessing import StandardScaler"
      ],
      "metadata": {
        "id": "PlKiZLj5MT4Y"
      },
      "execution_count": 15,
      "outputs": []
    },
    {
      "cell_type": "code",
      "source": [
        "scalar = StandardScaler()\n",
        "X_train = scalar.fit_transform(X_train)\n",
        "X_test = scalar.transform(X_test)"
      ],
      "metadata": {
        "id": "N4bleQypMZKD"
      },
      "execution_count": 16,
      "outputs": []
    },
    {
      "cell_type": "code",
      "source": [
        "model = tf.keras.models.Sequential([\n",
        "  tf.keras.layers.Input(shape=(D,)),\n",
        "  tf.keras.layers.Dense(1, activation='sigmoid')\n",
        "])\n",
        "\n",
        "model.compile(optimizer='adam',\n",
        "              loss='binary_crossentropy',\n",
        "              metrics=['accuracy'])\n",
        "\n",
        "r = model.fit(X_train, Y_train, validation_data=(X_test, Y_test), epochs=100, verbose=0)\n",
        "\n",
        "print(\"Train Score: \", model.evaluate(X_train, Y_train))\n",
        "print(\"Test  Score: \", model.evaluate(X_test, Y_test))"
      ],
      "metadata": {
        "colab": {
          "base_uri": "https://localhost:8080/"
        },
        "id": "tsT2eGx7Mlrs",
        "outputId": "960544db-1dd3-4bdd-b47e-cf38a5e68427"
      },
      "execution_count": 17,
      "outputs": [
        {
          "output_type": "stream",
          "name": "stdout",
          "text": [
            "12/12 [==============================] - 0s 3ms/step - loss: 0.0908 - accuracy: 0.9738\n",
            "Train Score:  [0.09084577113389969, 0.9737532734870911]\n",
            "6/6 [==============================] - 0s 5ms/step - loss: 0.0916 - accuracy: 0.9628\n",
            "Test  Score:  [0.09162196516990662, 0.9627659320831299]\n"
          ]
        }
      ]
    },
    {
      "cell_type": "code",
      "source": [
        "# Plot what is returned by the function\n",
        "import matplotlib.pyplot as plt\n",
        "plt.plot(r.history['loss'], label='loss')\n",
        "plt.plot(r.history['val_loss'], label='val_loss')"
      ],
      "metadata": {
        "colab": {
          "base_uri": "https://localhost:8080/",
          "height": 282
        },
        "id": "T4WwrpypNkuX",
        "outputId": "25b70b0d-9283-4c40-dc66-c346cf02b6d2"
      },
      "execution_count": 18,
      "outputs": [
        {
          "output_type": "execute_result",
          "data": {
            "text/plain": [
              "[<matplotlib.lines.Line2D at 0x7f2b21d5f310>]"
            ]
          },
          "metadata": {},
          "execution_count": 18
        },
        {
          "output_type": "display_data",
          "data": {
            "text/plain": [
              "<Figure size 432x288 with 1 Axes>"
            ],
            "image/png": "[encoded data removed]"
          },
          "metadata": {
            "needs_background": "light"
          }
        }
      ]
    },
    {
      "cell_type": "code",
      "source": [
        "plt.plot(r.history['accuracy'], label='acc')\n",
        "plt.plot(r.history['val_accuracy'], label='val_accuracy')\n",
        "plt.legend()"
      ],
      "metadata": {
        "colab": {
          "base_uri": "https://localhost:8080/",
          "height": 284
        },
        "id": "wfDjO5soNQw9",
        "outputId": "18c392c2-8b54-4619-cb02-6431f65e91ec"
      },
      "execution_count": 19,
      "outputs": [
        {
          "output_type": "execute_result",
          "data": {
            "text/plain": [
              "<matplotlib.legend.Legend at 0x7f2b2059c550>"
            ]
          },
          "metadata": {},
          "execution_count": 19
        },
        {
          "output_type": "display_data",
          "data": {
            "text/plain": [
              "<Figure size 432x288 with 1 Axes>"
            ],
            "image/png": "[encoded data removed]"
          },
          "metadata": {
            "needs_background": "light"
          }
        }
      ]
    },
    {
      "cell_type": "markdown",
      "source": [
        "**Making Predictions**"
      ],
      "metadata": {
        "id": "PVkfMdZEjBV_"
      }
    },
    {
      "cell_type": "code",
      "source": [
        "P = model.predict(X_test)\n",
        "print(P) # They are the output of the sigmoid, interpreted as probabilities p(Y = 1 | x)"
      ],
      "metadata": {
        "id": "SJJLU-rKjIoF",
        "outputId": "3528692a-6d49-4c80-e4ec-8ece308b7a51",
        "colab": {
          "base_uri": "https://localhost:8080/"
        }
      },
      "execution_count": 21,
      "outputs": [
        {
          "output_type": "stream",
          "name": "stdout",
          "text": [
            "[[9.9939501e-01]\n",
            " [9.9022144e-01]\n",
            " [1.3336778e-02]\n",
            " [7.9263424e-05]\n",
            " [9.9563754e-01]\n",
            " [6.7861927e-01]\n",
            " [9.9631703e-01]\n",
            " [1.7337519e-01]\n",
            " [8.1112039e-06]\n",
            " [9.0846002e-01]\n",
            " [3.9139122e-01]\n",
            " [9.8848498e-01]\n",
            " [9.9157119e-01]\n",
            " [9.6505833e-01]\n",
            " [9.9026346e-01]\n",
            " [2.7237493e-01]\n",
            " [4.0271485e-01]\n",
            " [9.8317373e-01]\n",
            " [2.2442937e-03]\n",
            " [9.9135554e-01]\n",
            " [9.8789310e-01]\n",
            " [8.8331103e-04]\n",
            " [9.9479288e-01]\n",
            " [8.6210358e-01]\n",
            " [9.9996626e-01]\n",
            " [7.7773070e-01]\n",
            " [9.8545444e-01]\n",
            " [2.1451594e-08]\n",
            " [9.9867260e-01]\n",
            " [3.7156761e-02]\n",
            " [1.5786946e-01]\n",
            " [9.9746120e-01]\n",
            " [9.7525561e-01]\n",
            " [9.9858987e-01]\n",
            " [4.4473711e-01]\n",
            " [9.9362499e-01]\n",
            " [3.9139390e-04]\n",
            " [5.1160240e-01]\n",
            " [9.9742591e-01]\n",
            " [9.9977338e-01]\n",
            " [9.9894458e-01]\n",
            " [9.6964633e-01]\n",
            " [3.7651956e-03]\n",
            " [4.6863428e-01]\n",
            " [6.1242163e-01]\n",
            " [9.6259773e-01]\n",
            " [5.2032567e-05]\n",
            " [7.7291465e-01]\n",
            " [9.8961574e-01]\n",
            " [9.8949087e-01]\n",
            " [4.7740340e-04]\n",
            " [1.7690697e-01]\n",
            " [9.9692541e-01]\n",
            " [9.1336441e-01]\n",
            " [2.5463104e-04]\n",
            " [8.7963617e-01]\n",
            " [9.7363698e-01]\n",
            " [9.1147584e-01]\n",
            " [1.5693903e-04]\n",
            " [6.2521904e-05]\n",
            " [6.2171400e-02]\n",
            " [7.5055671e-01]\n",
            " [1.6890389e-01]\n",
            " [9.9668342e-01]\n",
            " [9.6537864e-01]\n",
            " [9.0267688e-01]\n",
            " [9.8113972e-01]\n",
            " [2.4795264e-01]\n",
            " [9.9297482e-01]\n",
            " [9.9974495e-01]\n",
            " [8.7751716e-02]\n",
            " [2.1303892e-03]\n",
            " [9.9665827e-01]\n",
            " [9.9934077e-01]\n",
            " [5.6430387e-08]\n",
            " [9.0945780e-01]\n",
            " [9.2211246e-01]\n",
            " [9.9879158e-01]\n",
            " [9.9468958e-01]\n",
            " [9.5614529e-01]\n",
            " [1.5859232e-05]\n",
            " [9.9655402e-01]\n",
            " [4.2278388e-01]\n",
            " [9.9988121e-01]\n",
            " [8.6040306e-01]\n",
            " [9.4623542e-01]\n",
            " [9.0060401e-01]\n",
            " [9.9901390e-01]\n",
            " [9.9382961e-01]\n",
            " [9.9028027e-01]\n",
            " [9.9703908e-01]\n",
            " [9.8027217e-01]\n",
            " [9.6063548e-01]\n",
            " [5.3425348e-01]\n",
            " [9.9027884e-01]\n",
            " [9.9924606e-01]\n",
            " [9.9973023e-01]\n",
            " [6.1872780e-02]\n",
            " [4.4538993e-01]\n",
            " [9.9886876e-01]\n",
            " [9.6606886e-01]\n",
            " [9.9979544e-01]\n",
            " [7.6566762e-01]\n",
            " [3.7214160e-04]\n",
            " [3.2166747e-06]\n",
            " [9.9719501e-01]\n",
            " [9.9054760e-01]\n",
            " [1.8178463e-02]\n",
            " [9.5689344e-01]\n",
            " [9.8929560e-01]\n",
            " [9.9051368e-01]\n",
            " [9.9920738e-01]\n",
            " [9.9989736e-01]\n",
            " [9.9760437e-01]\n",
            " [1.5514076e-02]\n",
            " [1.4014977e-06]\n",
            " [9.6185815e-01]\n",
            " [4.9156785e-01]\n",
            " [9.7808760e-01]\n",
            " [1.2903214e-03]\n",
            " [2.2515357e-03]\n",
            " [9.8384011e-01]\n",
            " [8.8633382e-01]\n",
            " [9.9786198e-01]\n",
            " [2.0846274e-01]\n",
            " [9.1959596e-01]\n",
            " [9.8405480e-01]\n",
            " [9.7124481e-01]\n",
            " [9.1895163e-03]\n",
            " [9.8597622e-01]\n",
            " [9.9272084e-01]\n",
            " [9.6733147e-01]\n",
            " [9.6406925e-01]\n",
            " [6.9644153e-03]\n",
            " [3.8775802e-04]\n",
            " [4.8887521e-02]\n",
            " [9.9957967e-01]\n",
            " [1.4931858e-03]\n",
            " [9.4972205e-01]\n",
            " [6.8210435e-01]\n",
            " [1.3506413e-04]\n",
            " [9.9144030e-01]\n",
            " [9.9981171e-01]\n",
            " [9.9850100e-01]\n",
            " [1.2683868e-04]\n",
            " [1.2078756e-05]\n",
            " [9.9898058e-01]\n",
            " [9.5436460e-01]\n",
            " [5.6991202e-01]\n",
            " [9.9065185e-01]\n",
            " [9.9012089e-01]\n",
            " [9.9949563e-01]\n",
            " [1.3327464e-01]\n",
            " [1.3163596e-02]\n",
            " [4.9249879e-01]\n",
            " [9.9447274e-01]\n",
            " [9.9885464e-01]\n",
            " [9.9776971e-01]\n",
            " [9.9685001e-01]\n",
            " [9.9259984e-01]\n",
            " [9.9646592e-01]\n",
            " [9.9598777e-01]\n",
            " [9.9990195e-01]\n",
            " [9.2237085e-01]\n",
            " [9.9801517e-01]\n",
            " [8.4499013e-01]\n",
            " [2.4964177e-06]\n",
            " [9.9505150e-01]\n",
            " [9.5513880e-01]\n",
            " [9.9949312e-01]\n",
            " [9.9845296e-01]\n",
            " [9.9500680e-01]\n",
            " [9.8411548e-01]\n",
            " [1.1750308e-05]\n",
            " [7.2881269e-01]\n",
            " [9.8983747e-01]\n",
            " [9.9593830e-01]\n",
            " [8.0520431e-06]\n",
            " [6.7611194e-01]\n",
            " [9.9641275e-01]\n",
            " [9.9441409e-01]\n",
            " [9.2165887e-01]\n",
            " [9.9316597e-01]\n",
            " [9.9460959e-01]\n",
            " [8.2978165e-01]\n",
            " [9.9362695e-01]\n",
            " [5.5295229e-04]\n",
            " [3.6405265e-02]]\n"
          ]
        }
      ]
    },
    {
      "cell_type": "code",
      "source": [
        "# Round to get actual predictions\n",
        "# Note: Has to be flatten since the targets are size (N,) while the predictions are size (N, 1)\n",
        "import numpy as np\n",
        "P = np.round(P).flatten()\n",
        "print(P)"
      ],
      "metadata": {
        "id": "5ftVofSvjfKq",
        "outputId": "c0b12373-13aa-455c-bb87-35c431576f25",
        "colab": {
          "base_uri": "https://localhost:8080/"
        }
      },
      "execution_count": 22,
      "outputs": [
        {
          "output_type": "stream",
          "name": "stdout",
          "text": [
            "[1. 1. 0. 0. 1. 1. 1. 0. 0. 1. 0. 1. 1. 1. 1. 0. 0. 1. 0. 1. 1. 0. 1. 1.\n",
            " 1. 1. 1. 0. 1. 0. 0. 1. 1. 1. 0. 1. 0. 1. 1. 1. 1. 1. 0. 0. 1. 1. 0. 1.\n",
            " 1. 1. 0. 0. 1. 1. 0. 1. 1. 1. 0. 0. 0. 1. 0. 1. 1. 1. 1. 0. 1. 1. 0. 0.\n",
            " 1. 1. 0. 1. 1. 1. 1. 1. 0. 1. 0. 1. 1. 1. 1. 1. 1. 1. 1. 1. 1. 1. 1. 1.\n",
            " 1. 0. 0. 1. 1. 1. 1. 0. 0. 1. 1. 0. 1. 1. 1. 1. 1. 1. 0. 0. 1. 0. 1. 0.\n",
            " 0. 1. 1. 1. 0. 1. 1. 1. 0. 1. 1. 1. 1. 0. 0. 0. 1. 0. 1. 1. 0. 1. 1. 1.\n",
            " 0. 0. 1. 1. 1. 1. 1. 1. 0. 0. 0. 1. 1. 1. 1. 1. 1. 1. 1. 1. 1. 1. 0. 1.\n",
            " 1. 1. 1. 1. 1. 0. 1. 1. 1. 0. 1. 1. 1. 1. 1. 1. 1. 1. 0. 0.]\n"
          ]
        }
      ]
    },
    {
      "cell_type": "code",
      "source": [
        "# Calculate the accuracy and compare it to evaluate() output\n",
        "print(\"Manually calculated accuracy:\", np.mean(P == Y_test))\n",
        "print(\"Evaluated output:\", model.evaluate(X_test, Y_test))"
      ],
      "metadata": {
        "id": "nUz-Uf_DjX2i",
        "outputId": "596e4920-cd1c-4dd3-ae7d-13de551d5709",
        "colab": {
          "base_uri": "https://localhost:8080/"
        }
      },
      "execution_count": 23,
      "outputs": [
        {
          "output_type": "stream",
          "name": "stdout",
          "text": [
            "Manually calculated accuracy: 0.9627659574468085\n",
            "6/6 [==============================] - 0s 4ms/step - loss: 0.0916 - accuracy: 0.9628\n",
            "Evaluated output: [0.09162196516990662, 0.9627659320831299]\n"
          ]
        }
      ]
    }
  ]
}