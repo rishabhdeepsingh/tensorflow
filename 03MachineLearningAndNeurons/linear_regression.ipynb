{
  "nbformat": 4,
  "nbformat_minor": 0,
  "metadata": {
    "colab": {
      "name": "Untitled2.ipynb",
      "provenance": [],
      "collapsed_sections": [],
      "authorship_tag": "ABX9TyOf8Ygq5ekJn66P7mptkkqE",
      "include_colab_link": true
    },
    "kernelspec": {
      "name": "python3",
      "display_name": "Python 3"
    },
    "language_info": {
      "name": "python"
    }
  },
  "cells": [
    {
      "cell_type": "markdown",
      "metadata": {
        "id": "view-in-github",
        "colab_type": "text"
      },
      "source": [
        "<a href=\"https://colab.research.google.com/github/rishabhdeepsingh/tensorflow/blob/main/03MachineLearningAndNeurons/linear_regression.ipynb\" target=\"_parent\"><img src=\"https://colab.research.google.com/assets/colab-badge.svg\" alt=\"Open In Colab\"/></a>"
      ]
    },
    {
      "cell_type": "code",
      "execution_count": null,
      "metadata": {
        "id": "e3Wwmn87hXRF",
        "outputId": "0bab0670-f18a-4160-a9e0-77676e867453",
        "colab": {
          "base_uri": "https://localhost:8080/"
        }
      },
      "outputs": [
        {
          "output_type": "stream",
          "name": "stdout",
          "text": [
            "\u001b[?25l\r\u001b[K     |▊                               | 10 kB 11.8 MB/s eta 0:00:01\r\u001b[K     |█▍                              | 20 kB 10.6 MB/s eta 0:00:01\r\u001b[K     |██▏                             | 30 kB 8.1 MB/s eta 0:00:01\r\u001b[K     |██▉                             | 40 kB 3.5 MB/s eta 0:00:01\r\u001b[K     |███▌                            | 51 kB 3.6 MB/s eta 0:00:01\r\u001b[K     |████▎                           | 61 kB 4.2 MB/s eta 0:00:01\r\u001b[K     |█████                           | 71 kB 4.5 MB/s eta 0:00:01\r\u001b[K     |█████▊                          | 81 kB 3.4 MB/s eta 0:00:01\r\u001b[K     |██████▍                         | 92 kB 3.7 MB/s eta 0:00:01\r\u001b[K     |███████                         | 102 kB 4.1 MB/s eta 0:00:01\r\u001b[K     |███████▉                        | 112 kB 4.1 MB/s eta 0:00:01\r\u001b[K     |████████▌                       | 122 kB 4.1 MB/s eta 0:00:01\r\u001b[K     |█████████▏                      | 133 kB 4.1 MB/s eta 0:00:01\r\u001b[K     |██████████                      | 143 kB 4.1 MB/s eta 0:00:01\r\u001b[K     |██████████▋                     | 153 kB 4.1 MB/s eta 0:00:01\r\u001b[K     |███████████▍                    | 163 kB 4.1 MB/s eta 0:00:01\r\u001b[K     |████████████                    | 174 kB 4.1 MB/s eta 0:00:01\r\u001b[K     |████████████▊                   | 184 kB 4.1 MB/s eta 0:00:01\r\u001b[K     |█████████████▌                  | 194 kB 4.1 MB/s eta 0:00:01\r\u001b[K     |██████████████▏                 | 204 kB 4.1 MB/s eta 0:00:01\r\u001b[K     |██████████████▉                 | 215 kB 4.1 MB/s eta 0:00:01\r\u001b[K     |███████████████▋                | 225 kB 4.1 MB/s eta 0:00:01\r\u001b[K     |████████████████▎               | 235 kB 4.1 MB/s eta 0:00:01\r\u001b[K     |█████████████████               | 245 kB 4.1 MB/s eta 0:00:01\r\u001b[K     |█████████████████▊              | 256 kB 4.1 MB/s eta 0:00:01\r\u001b[K     |██████████████████▍             | 266 kB 4.1 MB/s eta 0:00:01\r\u001b[K     |███████████████████▏            | 276 kB 4.1 MB/s eta 0:00:01\r\u001b[K     |███████████████████▉            | 286 kB 4.1 MB/s eta 0:00:01\r\u001b[K     |████████████████████▌           | 296 kB 4.1 MB/s eta 0:00:01\r\u001b[K     |█████████████████████▎          | 307 kB 4.1 MB/s eta 0:00:01\r\u001b[K     |██████████████████████          | 317 kB 4.1 MB/s eta 0:00:01\r\u001b[K     |██████████████████████▊         | 327 kB 4.1 MB/s eta 0:00:01\r\u001b[K     |███████████████████████▍        | 337 kB 4.1 MB/s eta 0:00:01\r\u001b[K     |████████████████████████        | 348 kB 4.1 MB/s eta 0:00:01\r\u001b[K     |████████████████████████▉       | 358 kB 4.1 MB/s eta 0:00:01\r\u001b[K     |█████████████████████████▌      | 368 kB 4.1 MB/s eta 0:00:01\r\u001b[K     |██████████████████████████▏     | 378 kB 4.1 MB/s eta 0:00:01\r\u001b[K     |███████████████████████████     | 389 kB 4.1 MB/s eta 0:00:01\r\u001b[K     |███████████████████████████▋    | 399 kB 4.1 MB/s eta 0:00:01\r\u001b[K     |████████████████████████████▍   | 409 kB 4.1 MB/s eta 0:00:01\r\u001b[K     |█████████████████████████████   | 419 kB 4.1 MB/s eta 0:00:01\r\u001b[K     |█████████████████████████████▊  | 430 kB 4.1 MB/s eta 0:00:01\r\u001b[K     |██████████████████████████████▌ | 440 kB 4.1 MB/s eta 0:00:01\r\u001b[K     |███████████████████████████████▏| 450 kB 4.1 MB/s eta 0:00:01\r\u001b[K     |███████████████████████████████▉| 460 kB 4.1 MB/s eta 0:00:01\r\u001b[K     |████████████████████████████████| 462 kB 4.1 MB/s \n",
            "\u001b[?25h"
          ]
        }
      ],
      "source": [
        "!pip install -q tensorflow\n"
      ]
    },
    {
      "cell_type": "code",
      "source": [
        "import tensorflow as tf\n",
        "import pandas as pd\n",
        "import numpy as np\n",
        "import matplotlib.pyplot as plt"
      ],
      "metadata": {
        "id": "NIF5rhDIjKU3"
      },
      "execution_count": null,
      "outputs": []
    },
    {
      "cell_type": "code",
      "source": [
        "!wget https://raw.githubusercontent.com/lazyprogrammer/machine_learning_examples/master/tf2.0/moore.csv"
      ],
      "metadata": {
        "colab": {
          "base_uri": "https://localhost:8080/"
        },
        "id": "Uu0ePHm8jSAy",
        "outputId": "aa080fb8-0f34-4de6-ab14-3d72a0b1f056"
      },
      "execution_count": null,
      "outputs": [
        {
          "output_type": "stream",
          "name": "stdout",
          "text": [
            "--2022-05-29 16:11:20--  https://raw.githubusercontent.com/lazyprogrammer/machine_learning_examples/master/tf2.0/moore.csv\n",
            "Resolving raw.githubusercontent.com (raw.githubusercontent.com)... 185.199.108.133, 185.199.110.133, 185.199.109.133, ...\n",
            "Connecting to raw.githubusercontent.com (raw.githubusercontent.com)|185.199.108.133|:443... connected.\n",
            "HTTP request sent, awaiting response... 200 OK\n",
            "Length: 2302 (2.2K) [text/plain]\n",
            "Saving to: ‘moore.csv’\n",
            "\n",
            "moore.csv           100%[===================>]   2.25K  --.-KB/s    in 0s      \n",
            "\n",
            "2022-05-29 16:11:20 (35.1 MB/s) - ‘moore.csv’ saved [2302/2302]\n",
            "\n"
          ]
        }
      ]
    },
    {
      "cell_type": "code",
      "source": [
        "data = pd.read_csv('moore.csv', header=None).values\n",
        "X = data[:, 0].reshape(-1, 1)\n",
        "Y = data[:, 1]"
      ],
      "metadata": {
        "id": "ZYVxgYJajuHi"
      },
      "execution_count": null,
      "outputs": []
    },
    {
      "cell_type": "code",
      "source": [
        "plt.scatter(X, Y)"
      ],
      "metadata": {
        "colab": {
          "base_uri": "https://localhost:8080/",
          "height": 293
        },
        "id": "rQfyxPVAjGjv",
        "outputId": "efef7ec8-88d9-4013-8922-024b34ed9177"
      },
      "execution_count": null,
      "outputs": [
        {
          "output_type": "execute_result",
          "data": {
            "text/plain": [
              "<matplotlib.collections.PathCollection at 0x7fa2387d5710>"
            ]
          },
          "metadata": {},
          "execution_count": 5
        },
        {
          "output_type": "display_data",
          "data": {
            "text/plain": [
              "<Figure size 432x288 with 1 Axes>"
            ],
            "image/png": "[encoded data removed]"
          },
          "metadata": {
            "needs_background": "light"
          }
        }
      ]
    },
    {
      "cell_type": "code",
      "source": [
        "Y = np.log(Y)\n",
        "plt.scatter(X, Y)"
      ],
      "metadata": {
        "colab": {
          "base_uri": "https://localhost:8080/",
          "height": 282
        },
        "id": "QzBnuavkkXWw",
        "outputId": "ed9896cc-442d-40d5-c490-9cbe5bcef7ad"
      },
      "execution_count": null,
      "outputs": [
        {
          "output_type": "execute_result",
          "data": {
            "text/plain": [
              "<matplotlib.collections.PathCollection at 0x7fa2382c3790>"
            ]
          },
          "metadata": {},
          "execution_count": 6
        },
        {
          "output_type": "display_data",
          "data": {
            "text/plain": [
              "<Figure size 432x288 with 1 Axes>"
            ],
            "image/png": "[encoded data removed]"
          },
          "metadata": {
            "needs_background": "light"
          }
        }
      ]
    },
    {
      "cell_type": "code",
      "source": [
        "X = X - X.mean()"
      ],
      "metadata": {
        "id": "JMtNMf1Zkf4q"
      },
      "execution_count": null,
      "outputs": []
    },
    {
      "cell_type": "code",
      "source": [
        "model = tf.keras.models.Sequential([\n",
        "  tf.keras.layers.Input(shape=(1,)),\n",
        "  tf.keras.layers.Dense(1),\n",
        "])\n",
        "model.compile(optimizer=tf.keras.optimizers.SGD(0.001, 0.9), loss='mse')\n",
        "# model.compile(optimizer='adam', loss='mse')\n",
        "\n",
        "def schedule(epoch, lr):\n",
        "  if epoch >= 50:\n",
        "    return 0.0001\n",
        "  return 0.001\n",
        "\n",
        "scheduler = tf.keras.callbacks.LearningRateScheduler(schedule)\n",
        "\n",
        "# Train the model\n",
        "r = model.fit(X, Y, epochs=200, callbacks=[scheduler],verbose=0)"
      ],
      "metadata": {
        "id": "RkUJLy2VkmBt"
      },
      "execution_count": null,
      "outputs": []
    },
    {
      "cell_type": "code",
      "source": [
        "plt.plot(r.history['loss'], label='loss')"
      ],
      "metadata": {
        "colab": {
          "base_uri": "https://localhost:8080/",
          "height": 282
        },
        "id": "4uPVWlha5Owc",
        "outputId": "a301a85b-3087-4e4e-919e-2af536119990"
      },
      "execution_count": null,
      "outputs": [
        {
          "output_type": "execute_result",
          "data": {
            "text/plain": [
              "[<matplotlib.lines.Line2D at 0x7fa2333dff10>]"
            ]
          },
          "metadata": {},
          "execution_count": 9
        },
        {
          "output_type": "display_data",
          "data": {
            "text/plain": [
              "<Figure size 432x288 with 1 Axes>"
            ],
            "image/png": "[encoded data removed]"
          },
          "metadata": {
            "needs_background": "light"
          }
        }
      ]
    },
    {
      "cell_type": "code",
      "source": [
        "# Get the slope of the line\n",
        "# The slope of the line is related to the doubling rate of transistor count\n",
        "print(model.layers) \n",
        "print(model.layers[0].get_weights())"
      ],
      "metadata": {
        "colab": {
          "base_uri": "https://localhost:8080/"
        },
        "id": "m1hzeQMM5p-q",
        "outputId": "2e1c2bc0-341f-4aa5-a31b-1e2a2a268620"
      },
      "execution_count": null,
      "outputs": [
        {
          "output_type": "stream",
          "name": "stdout",
          "text": [
            "[<keras.layers.core.dense.Dense object at 0x7fa23877be50>]\n",
            "[array([[0.35675177]], dtype=float32), array([17.762848], dtype=float32)]\n"
          ]
        }
      ]
    },
    {
      "cell_type": "code",
      "source": [
        "a = model.layers[0].get_weights()[0][0,0]\n",
        "# y = ax + b"
      ],
      "metadata": {
        "id": "Aa0t7h_H52jR"
      },
      "execution_count": null,
      "outputs": []
    },
    {
      "cell_type": "code",
      "source": [
        "print(\"Time to double:\", np.log(2) / a)"
      ],
      "metadata": {
        "colab": {
          "base_uri": "https://localhost:8080/"
        },
        "id": "M8htFQjA6Cy1",
        "outputId": "1eca7274-c321-4a17-e2ad-913f82871586"
      },
      "execution_count": null,
      "outputs": [
        {
          "output_type": "stream",
          "name": "stdout",
          "text": [
            "Time to double: 1.9429397112317905\n"
          ]
        }
      ]
    },
    {
      "cell_type": "code",
      "source": [
        "X = np.array(X).flatten()\n",
        "Y = np.array(Y)\n",
        "denominator = X.dot(X) - X.mean() * X.sum()\n",
        "a = (X.dot(Y) - Y.mean() * X.sum()) / denominator\n",
        "b = (Y.mean() * X.dot(X) - X.mean() * X.dot(Y)) / denominator\n",
        "print(a, b)\n",
        "print(\"Time to double:\", np.log(2) / a)"
      ],
      "metadata": {
        "colab": {
          "base_uri": "https://localhost:8080/"
        },
        "id": "GYN50eIi6YAC",
        "outputId": "cfa30ff6-bf50-44de-df78-4276db1795a7"
      },
      "execution_count": null,
      "outputs": [
        {
          "output_type": "stream",
          "name": "stdout",
          "text": [
            "0.341682487387313 17.764939393631764\n",
            "Time to double: 2.0286295205239204\n"
          ]
        }
      ]
    },
    {
      "cell_type": "markdown",
      "source": [
        "## Part-2 Making Predictions"
      ],
      "metadata": {
        "id": "xfZnpfTVlNnA"
      }
    },
    {
      "cell_type": "code",
      "source": [
        "# Make sure the line fits our data\n",
        "y_hat = model.predict(X).flatten()\n",
        "plt.scatter(X, Y)\n",
        "plt.plot(X, y_hat)"
      ],
      "metadata": {
        "id": "RsfV5nsilQB3",
        "outputId": "3b797b69-3cf7-4d6f-f02e-127fcb0d8b46",
        "colab": {
          "base_uri": "https://localhost:8080/",
          "height": 282
        }
      },
      "execution_count": null,
      "outputs": [
        {
          "output_type": "execute_result",
          "data": {
            "text/plain": [
              "[<matplotlib.lines.Line2D at 0x7fa2333a7950>]"
            ]
          },
          "metadata": {},
          "execution_count": 14
        },
        {
          "output_type": "display_data",
          "data": {
            "text/plain": [
              "<Figure size 432x288 with 1 Axes>"
            ],
            "image/png": "[encoded data removed]"
          },
          "metadata": {
            "needs_background": "light"
          }
        }
      ]
    },
    {
      "cell_type": "code",
      "source": [
        "# Manual calculations\n",
        "# Get the weights\n",
        "w, b = model.layers[0].get_weights()\n",
        "\n",
        "# Reshape X because we flattened it again earlier\n",
        "X = X.reshape(-1, 1)\n",
        "\n",
        "# (N x 1) x (1 x 1) + (1) = (N x 1)\n",
        "y_hat_2 = (X.dot(w) + b).flatten()\n",
        "\n",
        "# Dont use == for floating point :D\n",
        "np.allclose(y_hat, y_hat_2)"
      ],
      "metadata": {
        "id": "yl1xvPEulkDN",
        "outputId": "34a6f5a1-8b65-4f15-bcc8-47d47232e852",
        "colab": {
          "base_uri": "https://localhost:8080/"
        }
      },
      "execution_count": null,
      "outputs": [
        {
          "output_type": "execute_result",
          "data": {
            "text/plain": [
              "True"
            ]
          },
          "metadata": {},
          "execution_count": 16
        }
      ]
    }
  ]
}