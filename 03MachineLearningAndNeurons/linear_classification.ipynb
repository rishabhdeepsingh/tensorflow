{
  "nbformat": 4,
  "nbformat_minor": 0,
  "metadata": {
    "colab": {
      "name": "sample_breast_cancer.ipynb",
      "provenance": [],
      "collapsed_sections": []
    },
    "kernelspec": {
      "name": "python3",
      "display_name": "Python 3"
    },
    "language_info": {
      "name": "python"
    }
  },
  "cells": [
    {
      "cell_type": "code",
      "execution_count": 32,
      "metadata": {
        "id": "jy2Xo2xEKXBV"
      },
      "outputs": [],
      "source": [
        "!pip install -q tensorflow"
      ]
    },
    {
      "cell_type": "code",
      "source": [
        "import tensorflow as tf"
      ],
      "metadata": {
        "id": "MDurPudZNNVb"
      },
      "execution_count": 33,
      "outputs": []
    },
    {
      "cell_type": "code",
      "source": [
        "from sklearn.datasets import load_breast_cancer"
      ],
      "metadata": {
        "id": "iCHs-NOCK7rt"
      },
      "execution_count": 34,
      "outputs": []
    },
    {
      "cell_type": "code",
      "source": [
        "data = load_breast_cancer()"
      ],
      "metadata": {
        "id": "Qu-nuw_ZLCaW"
      },
      "execution_count": 35,
      "outputs": []
    },
    {
      "cell_type": "code",
      "source": [
        "type(data)"
      ],
      "metadata": {
        "colab": {
          "base_uri": "https://localhost:8080/"
        },
        "id": "J4D1JAorLE9x",
        "outputId": "08f3cc5f-eb94-485e-d8ac-4c84a66ea8a5"
      },
      "execution_count": 36,
      "outputs": [
        {
          "output_type": "execute_result",
          "data": {
            "text/plain": [
              "sklearn.utils.Bunch"
            ]
          },
          "metadata": {},
          "execution_count": 36
        }
      ]
    },
    {
      "cell_type": "code",
      "source": [
        "data.keys()"
      ],
      "metadata": {
        "colab": {
          "base_uri": "https://localhost:8080/"
        },
        "id": "Kt2eSj6FLHCq",
        "outputId": "2647c7d1-1192-4481-9337-f69ab72b24c8"
      },
      "execution_count": 37,
      "outputs": [
        {
          "output_type": "execute_result",
          "data": {
            "text/plain": [
              "dict_keys(['data', 'target', 'frame', 'target_names', 'DESCR', 'feature_names', 'filename', 'data_module'])"
            ]
          },
          "metadata": {},
          "execution_count": 37
        }
      ]
    },
    {
      "cell_type": "code",
      "source": [
        "data.data.shape"
      ],
      "metadata": {
        "colab": {
          "base_uri": "https://localhost:8080/"
        },
        "id": "00NGtjdhLNPk",
        "outputId": "b8c9c4c9-e2fe-4f3d-d105-26edc790c798"
      },
      "execution_count": 38,
      "outputs": [
        {
          "output_type": "execute_result",
          "data": {
            "text/plain": [
              "(569, 30)"
            ]
          },
          "metadata": {},
          "execution_count": 38
        }
      ]
    },
    {
      "cell_type": "code",
      "source": [
        "data.target"
      ],
      "metadata": {
        "colab": {
          "base_uri": "https://localhost:8080/"
        },
        "id": "vcTYY227Llzm",
        "outputId": "eea2707f-f35f-40b6-d8e4-681b3abded34"
      },
      "execution_count": 39,
      "outputs": [
        {
          "output_type": "execute_result",
          "data": {
            "text/plain": [
              "array([0, 0, 0, 0, 0, 0, 0, 0, 0, 0, 0, 0, 0, 0, 0, 0, 0, 0, 0, 1, 1, 1,\n",
              "       0, 0, 0, 0, 0, 0, 0, 0, 0, 0, 0, 0, 0, 0, 0, 1, 0, 0, 0, 0, 0, 0,\n",
              "       0, 0, 1, 0, 1, 1, 1, 1, 1, 0, 0, 1, 0, 0, 1, 1, 1, 1, 0, 1, 0, 0,\n",
              "       1, 1, 1, 1, 0, 1, 0, 0, 1, 0, 1, 0, 0, 1, 1, 1, 0, 0, 1, 0, 0, 0,\n",
              "       1, 1, 1, 0, 1, 1, 0, 0, 1, 1, 1, 0, 0, 1, 1, 1, 1, 0, 1, 1, 0, 1,\n",
              "       1, 1, 1, 1, 1, 1, 1, 0, 0, 0, 1, 0, 0, 1, 1, 1, 0, 0, 1, 0, 1, 0,\n",
              "       0, 1, 0, 0, 1, 1, 0, 1, 1, 0, 1, 1, 1, 1, 0, 1, 1, 1, 1, 1, 1, 1,\n",
              "       1, 1, 0, 1, 1, 1, 1, 0, 0, 1, 0, 1, 1, 0, 0, 1, 1, 0, 0, 1, 1, 1,\n",
              "       1, 0, 1, 1, 0, 0, 0, 1, 0, 1, 0, 1, 1, 1, 0, 1, 1, 0, 0, 1, 0, 0,\n",
              "       0, 0, 1, 0, 0, 0, 1, 0, 1, 0, 1, 1, 0, 1, 0, 0, 0, 0, 1, 1, 0, 0,\n",
              "       1, 1, 1, 0, 1, 1, 1, 1, 1, 0, 0, 1, 1, 0, 1, 1, 0, 0, 1, 0, 1, 1,\n",
              "       1, 1, 0, 1, 1, 1, 1, 1, 0, 1, 0, 0, 0, 0, 0, 0, 0, 0, 0, 0, 0, 0,\n",
              "       0, 0, 1, 1, 1, 1, 1, 1, 0, 1, 0, 1, 1, 0, 1, 1, 0, 1, 0, 0, 1, 1,\n",
              "       1, 1, 1, 1, 1, 1, 1, 1, 1, 1, 1, 0, 1, 1, 0, 1, 0, 1, 1, 1, 1, 1,\n",
              "       1, 1, 1, 1, 1, 1, 1, 1, 1, 0, 1, 1, 1, 0, 1, 0, 1, 1, 1, 1, 0, 0,\n",
              "       0, 1, 1, 1, 1, 0, 1, 0, 1, 0, 1, 1, 1, 0, 1, 1, 1, 1, 1, 1, 1, 0,\n",
              "       0, 0, 1, 1, 1, 1, 1, 1, 1, 1, 1, 1, 1, 0, 0, 1, 0, 0, 0, 1, 0, 0,\n",
              "       1, 1, 1, 1, 1, 0, 1, 1, 1, 1, 1, 0, 1, 1, 1, 0, 1, 1, 0, 0, 1, 1,\n",
              "       1, 1, 1, 1, 0, 1, 1, 1, 1, 1, 1, 1, 0, 1, 1, 1, 1, 1, 0, 1, 1, 0,\n",
              "       1, 1, 1, 1, 1, 1, 1, 1, 1, 1, 1, 1, 0, 1, 0, 0, 1, 0, 1, 1, 1, 1,\n",
              "       1, 0, 1, 1, 0, 1, 0, 1, 1, 0, 1, 0, 1, 1, 1, 1, 1, 1, 1, 1, 0, 0,\n",
              "       1, 1, 1, 1, 1, 1, 0, 1, 1, 1, 1, 1, 1, 1, 1, 1, 1, 0, 1, 1, 1, 1,\n",
              "       1, 1, 1, 0, 1, 0, 1, 1, 0, 1, 1, 1, 1, 1, 0, 0, 1, 0, 1, 0, 1, 1,\n",
              "       1, 1, 1, 0, 1, 1, 0, 1, 0, 1, 0, 0, 1, 1, 1, 0, 1, 1, 1, 1, 1, 1,\n",
              "       1, 1, 1, 1, 1, 0, 1, 0, 0, 1, 1, 1, 1, 1, 1, 1, 1, 1, 1, 1, 1, 1,\n",
              "       1, 1, 1, 1, 1, 1, 1, 1, 1, 1, 1, 1, 0, 0, 0, 0, 0, 0, 1])"
            ]
          },
          "metadata": {},
          "execution_count": 39
        }
      ]
    },
    {
      "cell_type": "code",
      "source": [
        "data.target_names"
      ],
      "metadata": {
        "colab": {
          "base_uri": "https://localhost:8080/"
        },
        "id": "1Hn4CNL3LpE-",
        "outputId": "4f5cb2ed-5ce3-4dcd-e48e-de80821996bb"
      },
      "execution_count": 40,
      "outputs": [
        {
          "output_type": "execute_result",
          "data": {
            "text/plain": [
              "array(['malignant', 'benign'], dtype='<U9')"
            ]
          },
          "metadata": {},
          "execution_count": 40
        }
      ]
    },
    {
      "cell_type": "code",
      "source": [
        "data.target.shape"
      ],
      "metadata": {
        "colab": {
          "base_uri": "https://localhost:8080/"
        },
        "id": "I1XUV0kULtQ6",
        "outputId": "c13c30ed-481b-4683-fcd1-34f4504f9ea4"
      },
      "execution_count": 41,
      "outputs": [
        {
          "output_type": "execute_result",
          "data": {
            "text/plain": [
              "(569,)"
            ]
          },
          "metadata": {},
          "execution_count": 41
        }
      ]
    },
    {
      "cell_type": "code",
      "source": [
        "data.feature_names"
      ],
      "metadata": {
        "colab": {
          "base_uri": "https://localhost:8080/"
        },
        "id": "kZeba1g1Ly83",
        "outputId": "f9aaa6cb-79c2-492a-d383-5efd3cb80a8d"
      },
      "execution_count": 42,
      "outputs": [
        {
          "output_type": "execute_result",
          "data": {
            "text/plain": [
              "array(['mean radius', 'mean texture', 'mean perimeter', 'mean area',\n",
              "       'mean smoothness', 'mean compactness', 'mean concavity',\n",
              "       'mean concave points', 'mean symmetry', 'mean fractal dimension',\n",
              "       'radius error', 'texture error', 'perimeter error', 'area error',\n",
              "       'smoothness error', 'compactness error', 'concavity error',\n",
              "       'concave points error', 'symmetry error',\n",
              "       'fractal dimension error', 'worst radius', 'worst texture',\n",
              "       'worst perimeter', 'worst area', 'worst smoothness',\n",
              "       'worst compactness', 'worst concavity', 'worst concave points',\n",
              "       'worst symmetry', 'worst fractal dimension'], dtype='<U23')"
            ]
          },
          "metadata": {},
          "execution_count": 42
        }
      ]
    },
    {
      "cell_type": "code",
      "source": [
        "from sklearn.model_selection import train_test_split"
      ],
      "metadata": {
        "id": "XzbacqV3L1p7"
      },
      "execution_count": 43,
      "outputs": []
    },
    {
      "cell_type": "code",
      "source": [
        "X_train, X_test, Y_train, Y_test = train_test_split(data.data, data.target, test_size=0.33)\n",
        "N, D = X_train.shape"
      ],
      "metadata": {
        "id": "5uGKJIqVMFe7"
      },
      "execution_count": 44,
      "outputs": []
    },
    {
      "cell_type": "code",
      "source": [
        "from sklearn.preprocessing import StandardScaler"
      ],
      "metadata": {
        "id": "PlKiZLj5MT4Y"
      },
      "execution_count": 45,
      "outputs": []
    },
    {
      "cell_type": "code",
      "source": [
        "scalar = StandardScaler()\n",
        "X_train = scalar.fit_transform(X_train)\n",
        "X_test = scalar.transform(X_test)"
      ],
      "metadata": {
        "id": "N4bleQypMZKD"
      },
      "execution_count": 46,
      "outputs": []
    },
    {
      "cell_type": "code",
      "source": [
        "model = tf.keras.models.Sequential([\n",
        "  tf.keras.layers.Input(shape=(D,)),\n",
        "  tf.keras.layers.Dense(1, activation='sigmoid')\n",
        "])\n",
        "\n",
        "model.compile(optimizer='adam',\n",
        "              loss='binary_crossentropy',\n",
        "              metrics=['accuracy'])\n",
        "\n",
        "r = model.fit(X_train, Y_train, validation_data=(X_test, Y_test), epochs=100, verbose=0)\n",
        "\n",
        "print(\"Train Score: \", model.evaluate(X_train, Y_train))\n",
        "print(\"Test  Score: \", model.evaluate(X_test, Y_test))"
      ],
      "metadata": {
        "colab": {
          "base_uri": "https://localhost:8080/"
        },
        "id": "tsT2eGx7Mlrs",
        "outputId": "14baca2f-24f2-4cf0-b7f3-5496ea3cf106"
      },
      "execution_count": 47,
      "outputs": [
        {
          "output_type": "stream",
          "name": "stdout",
          "text": [
            "12/12 [==============================] - 0s 2ms/step - loss: 0.0934 - accuracy: 0.9790\n",
            "Train Score:  [0.09337974339723587, 0.9790025949478149]\n",
            "6/6 [==============================] - 0s 2ms/step - loss: 0.1006 - accuracy: 0.9628\n",
            "Test  Score:  [0.10062761604785919, 0.9627659320831299]\n"
          ]
        }
      ]
    },
    {
      "cell_type": "code",
      "source": [
        "# Plot what is returned by the function\n",
        "import matplotlib.pyplot as plt\n",
        "plt.plot(r.history['loss'], label='loss')\n",
        "plt.plot(r.history['val_loss'], label='val_loss')"
      ],
      "metadata": {
        "colab": {
          "base_uri": "https://localhost:8080/",
          "height": 282
        },
        "id": "T4WwrpypNkuX",
        "outputId": "c49b2102-0b9b-4321-a389-3bb8d0704cbc"
      },
      "execution_count": 48,
      "outputs": [
        {
          "output_type": "execute_result",
          "data": {
            "text/plain": [
              "[<matplotlib.lines.Line2D at 0x7f6064278710>]"
            ]
          },
          "metadata": {},
          "execution_count": 48
        },
        {
          "output_type": "display_data",
          "data": {
            "text/plain": [
              "<Figure size 432x288 with 1 Axes>"
            ],
            "image/png": "[encoded data removed]"
          },
          "metadata": {
            "needs_background": "light"
          }
        }
      ]
    },
    {
      "cell_type": "code",
      "source": [
        "plt.plot(r.history['accuracy'], label='acc')\n",
        "plt.plot(r.history['val_accuracy'], label='val_accuracy')\n",
        "plt.legend()"
      ],
      "metadata": {
        "colab": {
          "base_uri": "https://localhost:8080/",
          "height": 286
        },
        "id": "wfDjO5soNQw9",
        "outputId": "8450a17a-fb0d-4e13-ddf1-63216f08edb4"
      },
      "execution_count": 49,
      "outputs": [
        {
          "output_type": "execute_result",
          "data": {
            "text/plain": [
              "<matplotlib.legend.Legend at 0x7f6064288a10>"
            ]
          },
          "metadata": {},
          "execution_count": 49
        },
        {
          "output_type": "display_data",
          "data": {
            "text/plain": [
              "<Figure size 432x288 with 1 Axes>"
            ],
            "image/png": "[encoded data removed]"
          },
          "metadata": {
            "needs_background": "light"
          }
        }
      ]
    },
    {
      "cell_type": "markdown",
      "source": [
        "**Making Predictions**"
      ],
      "metadata": {
        "id": "PVkfMdZEjBV_"
      }
    },
    {
      "cell_type": "code",
      "source": [
        "P = model.predict(X_test)\n",
        "print(P) # They are the output of the sigmoid, interpreted as probabilities p(Y = 1 | x)"
      ],
      "metadata": {
        "id": "SJJLU-rKjIoF",
        "outputId": "52f67761-3886-4a52-a546-dbc3b606b9fb",
        "colab": {
          "base_uri": "https://localhost:8080/"
        }
      },
      "execution_count": 50,
      "outputs": [
        {
          "output_type": "stream",
          "name": "stdout",
          "text": [
            "[[9.8349267e-01]\n",
            " [9.9236619e-01]\n",
            " [1.4030933e-04]\n",
            " [9.1218716e-01]\n",
            " [1.3096631e-01]\n",
            " [9.9986279e-01]\n",
            " [9.6724439e-01]\n",
            " [9.6136022e-01]\n",
            " [1.8737137e-02]\n",
            " [3.6286712e-02]\n",
            " [6.9238186e-01]\n",
            " [6.9241315e-02]\n",
            " [5.4297356e-08]\n",
            " [4.3104154e-01]\n",
            " [1.7997563e-02]\n",
            " [9.8639107e-01]\n",
            " [9.9891537e-01]\n",
            " [8.8368446e-01]\n",
            " [9.9914426e-01]\n",
            " [9.9768615e-01]\n",
            " [9.5692372e-01]\n",
            " [9.5848525e-01]\n",
            " [8.7980330e-03]\n",
            " [9.8838580e-01]\n",
            " [9.4135165e-01]\n",
            " [9.7557741e-01]\n",
            " [9.9490047e-01]\n",
            " [9.4547498e-01]\n",
            " [6.2988913e-01]\n",
            " [1.2331734e-04]\n",
            " [4.7510862e-03]\n",
            " [9.5665717e-01]\n",
            " [3.2238662e-03]\n",
            " [3.5712123e-04]\n",
            " [9.9823296e-01]\n",
            " [9.9593425e-01]\n",
            " [9.3764216e-01]\n",
            " [9.9262524e-01]\n",
            " [8.3429968e-01]\n",
            " [8.9212507e-01]\n",
            " [1.1148840e-02]\n",
            " [9.9497092e-01]\n",
            " [9.5964026e-01]\n",
            " [8.2007581e-01]\n",
            " [9.8464674e-01]\n",
            " [9.9946141e-01]\n",
            " [2.1051982e-01]\n",
            " [9.9940622e-01]\n",
            " [9.9303102e-01]\n",
            " [7.2115064e-03]\n",
            " [9.9924439e-01]\n",
            " [9.7997612e-01]\n",
            " [7.0802277e-01]\n",
            " [9.9116957e-01]\n",
            " [3.2639819e-01]\n",
            " [3.3400893e-02]\n",
            " [9.9150825e-01]\n",
            " [6.9106180e-05]\n",
            " [9.8370063e-01]\n",
            " [8.4794054e-05]\n",
            " [9.9850416e-01]\n",
            " [8.1506842e-01]\n",
            " [9.8517197e-01]\n",
            " [9.5170653e-01]\n",
            " [9.9381793e-01]\n",
            " [9.8941779e-01]\n",
            " [4.7664168e-01]\n",
            " [3.1625837e-02]\n",
            " [9.3817145e-01]\n",
            " [8.3140081e-01]\n",
            " [9.7570837e-01]\n",
            " [9.7987825e-01]\n",
            " [1.3640791e-02]\n",
            " [9.9990213e-01]\n",
            " [4.8463553e-02]\n",
            " [9.0912282e-03]\n",
            " [1.4346948e-01]\n",
            " [2.8625131e-03]\n",
            " [2.2511661e-02]\n",
            " [9.5935655e-01]\n",
            " [6.5176779e-01]\n",
            " [9.3721455e-01]\n",
            " [9.4178349e-01]\n",
            " [9.6613359e-01]\n",
            " [9.9866539e-01]\n",
            " [3.9741397e-04]\n",
            " [9.9273622e-01]\n",
            " [9.8790681e-01]\n",
            " [2.6714802e-04]\n",
            " [9.9680150e-01]\n",
            " [3.9098859e-03]\n",
            " [1.1079169e-08]\n",
            " [9.2519069e-01]\n",
            " [3.4497851e-01]\n",
            " [9.9463618e-01]\n",
            " [8.9300209e-01]\n",
            " [9.9700522e-01]\n",
            " [9.5313311e-01]\n",
            " [9.8975015e-01]\n",
            " [9.8889422e-01]\n",
            " [8.0116093e-03]\n",
            " [9.8921829e-01]\n",
            " [9.6689665e-01]\n",
            " [9.8832816e-01]\n",
            " [7.7806413e-03]\n",
            " [1.1943728e-01]\n",
            " [1.5705824e-04]\n",
            " [4.4689709e-01]\n",
            " [2.1669626e-02]\n",
            " [9.1990209e-01]\n",
            " [2.7959943e-03]\n",
            " [9.2927802e-01]\n",
            " [9.9560845e-01]\n",
            " [9.3628716e-01]\n",
            " [2.8155833e-01]\n",
            " [1.2781036e-06]\n",
            " [1.6721189e-03]\n",
            " [9.9916708e-01]\n",
            " [9.9628383e-01]\n",
            " [9.9582773e-01]\n",
            " [9.8587722e-01]\n",
            " [7.8127921e-01]\n",
            " [1.0308987e-01]\n",
            " [9.6711135e-01]\n",
            " [8.8680398e-01]\n",
            " [9.8876703e-01]\n",
            " [8.0312097e-01]\n",
            " [9.9484777e-01]\n",
            " [8.2177621e-01]\n",
            " [1.5291099e-07]\n",
            " [9.9488556e-01]\n",
            " [6.4726579e-01]\n",
            " [7.0556998e-04]\n",
            " [9.8955262e-01]\n",
            " [9.9880677e-01]\n",
            " [8.0150366e-04]\n",
            " [9.8767465e-01]\n",
            " [4.1051507e-03]\n",
            " [7.4313581e-01]\n",
            " [9.1181500e-06]\n",
            " [9.9927890e-01]\n",
            " [9.9321556e-01]\n",
            " [9.2199326e-01]\n",
            " [9.9094725e-01]\n",
            " [9.9869442e-01]\n",
            " [9.9768275e-01]\n",
            " [9.7332275e-01]\n",
            " [2.2312999e-04]\n",
            " [9.9942017e-01]\n",
            " [9.6218610e-01]\n",
            " [5.4015082e-01]\n",
            " [9.8963618e-01]\n",
            " [9.9965477e-01]\n",
            " [9.9936450e-01]\n",
            " [9.9976683e-01]\n",
            " [9.9053824e-01]\n",
            " [1.2993950e-01]\n",
            " [8.2822502e-01]\n",
            " [9.8729599e-01]\n",
            " [9.9997282e-01]\n",
            " [1.3611615e-03]\n",
            " [6.5991282e-04]\n",
            " [9.4777024e-01]\n",
            " [9.3963403e-01]\n",
            " [9.9003351e-01]\n",
            " [9.9941111e-01]\n",
            " [9.8381293e-01]\n",
            " [9.8333633e-01]\n",
            " [1.0073066e-02]\n",
            " [6.7488801e-01]\n",
            " [9.4437629e-02]\n",
            " [7.3722595e-01]\n",
            " [4.8689246e-03]\n",
            " [9.0286905e-01]\n",
            " [9.9827278e-01]\n",
            " [1.8419537e-01]\n",
            " [5.3271323e-01]\n",
            " [9.9755162e-01]\n",
            " [2.1185958e-01]\n",
            " [5.2353764e-01]\n",
            " [9.9857426e-01]\n",
            " [1.0470748e-03]\n",
            " [4.5804730e-01]\n",
            " [9.5070732e-01]\n",
            " [9.8770368e-01]\n",
            " [9.6925080e-01]\n",
            " [4.0218830e-03]\n",
            " [9.4277859e-03]]\n"
          ]
        }
      ]
    },
    {
      "cell_type": "code",
      "source": [
        "# Round to get actual predictions\n",
        "# Note: Has to be flatten since the targets are size (N,) while the predictions are size (N, 1)\n",
        "import numpy as np\n",
        "P = np.round(P).flatten()\n",
        "print(P)"
      ],
      "metadata": {
        "id": "5ftVofSvjfKq",
        "outputId": "9a59a57f-e3c6-4bbc-ec5a-956d31b35e87",
        "colab": {
          "base_uri": "https://localhost:8080/"
        }
      },
      "execution_count": 51,
      "outputs": [
        {
          "output_type": "stream",
          "name": "stdout",
          "text": [
            "[1. 1. 0. 1. 0. 1. 1. 1. 0. 0. 1. 0. 0. 0. 0. 1. 1. 1. 1. 1. 1. 1. 0. 1.\n",
            " 1. 1. 1. 1. 1. 0. 0. 1. 0. 0. 1. 1. 1. 1. 1. 1. 0. 1. 1. 1. 1. 1. 0. 1.\n",
            " 1. 0. 1. 1. 1. 1. 0. 0. 1. 0. 1. 0. 1. 1. 1. 1. 1. 1. 0. 0. 1. 1. 1. 1.\n",
            " 0. 1. 0. 0. 0. 0. 0. 1. 1. 1. 1. 1. 1. 0. 1. 1. 0. 1. 0. 0. 1. 0. 1. 1.\n",
            " 1. 1. 1. 1. 0. 1. 1. 1. 0. 0. 0. 0. 0. 1. 0. 1. 1. 1. 0. 0. 0. 1. 1. 1.\n",
            " 1. 1. 0. 1. 1. 1. 1. 1. 1. 0. 1. 1. 0. 1. 1. 0. 1. 0. 1. 0. 1. 1. 1. 1.\n",
            " 1. 1. 1. 0. 1. 1. 1. 1. 1. 1. 1. 1. 0. 1. 1. 1. 0. 0. 1. 1. 1. 1. 1. 1.\n",
            " 0. 1. 0. 1. 0. 1. 1. 0. 1. 1. 0. 1. 1. 0. 0. 1. 1. 1. 0. 0.]\n"
          ]
        }
      ]
    },
    {
      "cell_type": "code",
      "source": [
        "# Calculate the accuracy and compare it to evaluate() output\n",
        "print(\"Manually calculated accuracy:\", np.mean(P == Y_test))\n",
        "print(\"Evaluated output:\", model.evaluate(X_test, Y_test))"
      ],
      "metadata": {
        "id": "nUz-Uf_DjX2i",
        "outputId": "611dc6d5-e03a-4fe0-b898-4aca6850261a",
        "colab": {
          "base_uri": "https://localhost:8080/"
        }
      },
      "execution_count": 31,
      "outputs": [
        {
          "output_type": "stream",
          "name": "stdout",
          "text": [
            "Manually calculated accuracy: 0.9893617021276596\n",
            "6/6 [==============================] - 0s 3ms/step - loss: 0.0943 - accuracy: 0.9894\n",
            "Evaluated output: [0.0943121388554573, 0.9893617033958435]\n"
          ]
        }
      ]
    },
    {
      "cell_type": "code",
      "source": [
        "# Lets now save our model to a file\n",
        "model.save('linear_classifier.h5')"
      ],
      "metadata": {
        "id": "ZmjrzYPuIXID"
      },
      "execution_count": 52,
      "outputs": []
    },
    {
      "cell_type": "code",
      "source": [
        "!ls -lh"
      ],
      "metadata": {
        "colab": {
          "base_uri": "https://localhost:8080/"
        },
        "id": "vskuHvHmIecg",
        "outputId": "35677083-24a0-42ba-cf28-c65c3f4358b3"
      },
      "execution_count": 53,
      "outputs": [
        {
          "output_type": "stream",
          "name": "stdout",
          "text": [
            "total 24K\n",
            "-rw-r--r-- 1 root root  19K May 29 18:44 linear_classifier.h5\n",
            "drwxr-xr-x 1 root root 4.0K May 17 13:39 sample_data\n"
          ]
        }
      ]
    },
    {
      "cell_type": "code",
      "source": [
        "# Lets now load the model and see if it still works\n",
        "# Load / Save only works if you Don't use the Input() layer explicitely\n",
        "# https://github.com/keras-team/keras/issues/10417\n",
        "model = tf.keras.models.load_model('linear_classifier.h5')\n",
        "print(model.layers)\n",
        "model.evaluate(X_test, Y_test)"
      ],
      "metadata": {
        "colab": {
          "base_uri": "https://localhost:8080/"
        },
        "id": "k3keaidQIfpM",
        "outputId": "f9b0d5eb-5272-4b58-f967-266aaf0a1b0d"
      },
      "execution_count": 54,
      "outputs": [
        {
          "output_type": "stream",
          "name": "stdout",
          "text": [
            "[<keras.layers.core.dense.Dense object at 0x7f6063b6b450>]\n",
            "6/6 [==============================] - 0s 3ms/step - loss: 0.1006 - accuracy: 0.9628\n"
          ]
        },
        {
          "output_type": "execute_result",
          "data": {
            "text/plain": [
              "[0.10062761604785919, 0.9627659320831299]"
            ]
          },
          "metadata": {},
          "execution_count": 54
        }
      ]
    }
  ]
}